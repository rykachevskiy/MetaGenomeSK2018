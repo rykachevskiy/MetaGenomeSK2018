{
 "cells": [
  {
   "cell_type": "code",
   "execution_count": 1,
   "metadata": {},
   "outputs": [],
   "source": [
    "import pandas as pd\n",
    "import numpy as np\n",
    "\n",
    "from sklearn.decomposition import PCA\n",
    "import matplotlib.pyplot as plt"
   ]
  },
  {
   "cell_type": "code",
   "execution_count": null,
   "metadata": {},
   "outputs": [],
   "source": []
  },
  {
   "cell_type": "code",
   "execution_count": 3,
   "metadata": {},
   "outputs": [],
   "source": [
    "paths_list = [\"../data/g/data_G\", \n",
    "              \"../data/g/data_G_dropped_samples\",\n",
    "              \"../data/f/data_F\",\n",
    "              \"../data/f/data_F_dropped_samples\",\n",
    "              \"../data/o/data_O\",\n",
    "              \"../data/o/data_O_dropped_samples\",\n",
    "             ]"
   ]
  },
  {
   "cell_type": "code",
   "execution_count": null,
   "metadata": {},
   "outputs": [],
   "source": []
  },
  {
   "cell_type": "code",
   "execution_count": 13,
   "metadata": {},
   "outputs": [],
   "source": [
    "for path in paths_list:\n",
    "    data = load_path(path)\n",
    "    np.save(path, data_pca)"
   ]
  },
  {
   "cell_type": "code",
   "execution_count": null,
   "metadata": {},
   "outputs": [],
   "source": []
  },
  {
   "cell_type": "code",
   "execution_count": null,
   "metadata": {},
   "outputs": [],
   "source": [
    "x или 1 если x = 0"
   ]
  },
  {
   "cell_type": "code",
   "execution_count": 29,
   "metadata": {},
   "outputs": [],
   "source": [
    "def upd_x(x):\n",
    "    if x == 0:\n",
    "        return 1\n",
    "    else:\n",
    "        return x"
   ]
  },
  {
   "cell_type": "code",
   "execution_count": null,
   "metadata": {},
   "outputs": [],
   "source": []
  },
  {
   "cell_type": "code",
   "execution_count": 148,
   "metadata": {},
   "outputs": [],
   "source": [
    "def load_path(path, v = 0):\n",
    "    data = pd.read_csv(path, index_col=0)\n",
    "    mask = data.values[:, 1:].sum(1) != 0\n",
    "    \n",
    "    if v: print(data.values[mask].shape)\n",
    "    \n",
    "    data_filtered = data.values[mask][:, 1:]\n",
    "    \n",
    "    data_norm = data_filtered/ np.array([upd_x(x) for x in data_filtered.sum(1)]).reshape(-1,1)\n",
    "    \n",
    "    return data_norm"
   ]
  },
  {
   "cell_type": "code",
   "execution_count": 149,
   "metadata": {},
   "outputs": [],
   "source": [
    "def do_PCA(data):\n",
    "    pca = PCA()\n",
    "    pca.fit(data)\n",
    "    \n",
    "    explained_var = []\n",
    "    for i in range(len(pca.explained_variance_)):\n",
    "        explained_var.append(sum(pca.explained_variance_ratio_[:i]))\n",
    "        \n",
    "    plt.plot(explained_var)\n",
    "    plt.show()\n",
    "    \n",
    "    threshold_idx = np.where(np.array(explained_var) > 0.99)[0][0]\n",
    "    \n",
    "    print(threshold_idx)\n",
    "    return pca.transform(data)[:,:threshold_idx]"
   ]
  },
  {
   "cell_type": "code",
   "execution_count": 150,
   "metadata": {},
   "outputs": [],
   "source": [
    "def check_data(data):\n",
    "    print(data.shape)\n",
    "    return all(np.abs(data.sum(1) - 1) < 1e-7)"
   ]
  },
  {
   "cell_type": "code",
   "execution_count": 151,
   "metadata": {},
   "outputs": [
    {
     "data": {
      "text/plain": [
       "'../data/g/data_G_dropped_samples'"
      ]
     },
     "execution_count": 151,
     "metadata": {},
     "output_type": "execute_result"
    }
   ],
   "source": [
    "path"
   ]
  },
  {
   "cell_type": "code",
   "execution_count": null,
   "metadata": {},
   "outputs": [],
   "source": []
  },
  {
   "cell_type": "code",
   "execution_count": 154,
   "metadata": {
    "scrolled": false
   },
   "outputs": [
    {
     "name": "stdout",
     "output_type": "stream",
     "text": [
      "(14088, 576)\n",
      "True\n"
     ]
    },
    {
     "data": {
      "image/png": "[encoded data removed]",
      "text/plain": [
       "<matplotlib.figure.Figure at 0x7fca736c9198>"
      ]
     },
     "metadata": {},
     "output_type": "display_data"
    },
    {
     "name": "stdout",
     "output_type": "stream",
     "text": [
      "117\n",
      "(14088, 576) (14088, 117)\n",
      "save_path:  ../data/g/data_G_\n",
      "(8056, 522)\n",
      "True\n"
     ]
    },
    {
     "data": {
      "image/png": "[encoded data removed]",
      "text/plain": [
       "<matplotlib.figure.Figure at 0x7fca735fc358>"
      ]
     },
     "metadata": {},
     "output_type": "display_data"
    },
    {
     "name": "stdout",
     "output_type": "stream",
     "text": [
      "117\n",
      "(8056, 522) (8056, 117)\n",
      "save_path:  ../data/g/data_G_dropped_samples_\n",
      "(14098, 266)\n",
      "True\n"
     ]
    },
    {
     "data": {
      "image/png": "[encoded data removed]",
      "text/plain": [
       "<matplotlib.figure.Figure at 0x7fca7bdffb38>"
      ]
     },
     "metadata": {},
     "output_type": "display_data"
    },
    {
     "name": "stdout",
     "output_type": "stream",
     "text": [
      "62\n",
      "(14098, 266) (14098, 62)\n",
      "save_path:  ../data/f/data_F_\n",
      "(2801, 215)\n",
      "True\n"
     ]
    },
    {
     "data": {
      "image/png": "[encoded data removed]",
      "text/plain": [
       "<matplotlib.figure.Figure at 0x7fca735e7438>"
      ]
     },
     "metadata": {},
     "output_type": "display_data"
    },
    {
     "name": "stdout",
     "output_type": "stream",
     "text": [
      "56\n",
      "(2801, 215) (2801, 56)\n",
      "save_path:  ../data/f/data_F_dropped_samples_\n",
      "(14098, 178)\n",
      "True\n"
     ]
    },
    {
     "data": {
      "image/png": "[encoded data removed]",
      "text/plain": [
       "<matplotlib.figure.Figure at 0x7fca7bdff6a0>"
      ]
     },
     "metadata": {},
     "output_type": "display_data"
    },
    {
     "name": "stdout",
     "output_type": "stream",
     "text": [
      "33\n",
      "(14098, 178) (14098, 33)\n",
      "save_path:  ../data/o/data_O_\n",
      "(19, 42)\n",
      "True\n"
     ]
    },
    {
     "data": {
      "image/png": "[encoded data removed]",
      "text/plain": [
       "<matplotlib.figure.Figure at 0x7fca73621f98>"
      ]
     },
     "metadata": {},
     "output_type": "display_data"
    },
    {
     "name": "stdout",
     "output_type": "stream",
     "text": [
      "12\n",
      "(19, 42) (19, 12)\n",
      "save_path:  ../data/o/data_O_dropped_samples_\n"
     ]
    }
   ],
   "source": [
    "for path in paths_list:\n",
    "    data = load_path(path)\n",
    "    \n",
    "    print(check_data(data))\n",
    "    data_pca = do_PCA(data)\n",
    "    \n",
    "    print(data.shape, data_pca.shape)\n",
    "    \n",
    "    print(\"save_path: \",path + \"_\")\n",
    "    np.save(path + \"_pca_99\", data_pca)\n",
    "    np.save(path, data)"
   ]
  },
  {
   "cell_type": "code",
   "execution_count": null,
   "metadata": {},
   "outputs": [],
   "source": []
  },
  {
   "cell_type": "code",
   "execution_count": null,
   "metadata": {},
   "outputs": [],
   "source": []
  },
  {
   "cell_type": "code",
   "execution_count": 34,
   "metadata": {
    "scrolled": true
   },
   "outputs": [
    {
     "data": {
      "image/png": "[encoded data removed]",
      "text/plain": [
       "<matplotlib.figure.Figure at 0x7f46c7d72b00>"
      ]
     },
     "metadata": {},
     "output_type": "display_data"
    },
    {
     "name": "stdout",
     "output_type": "stream",
     "text": [
      "104\n"
     ]
    }
   ],
   "source": [
    "data_pca_99 = do_PCA(d)"
   ]
  },
  {
   "cell_type": "code",
   "execution_count": 63,
   "metadata": {},
   "outputs": [],
   "source": [
    " = pca.transform(data_norm)[:,:111]"
   ]
  },
  {
   "cell_type": "code",
   "execution_count": 83,
   "metadata": {},
   "outputs": [],
   "source": [
    "np.save(\"../data/g/pca_drop_na_99\", data_pca_99)"
   ]
  },
  {
   "cell_type": "code",
   "execution_count": 53,
   "metadata": {},
   "outputs": [
    {
     "data": {
      "text/plain": [
       "0.0008556710032305947"
      ]
     },
     "execution_count": 53,
     "metadata": {},
     "output_type": "execute_result"
    }
   ],
   "source": []
  },
  {
   "cell_type": "code",
   "execution_count": null,
   "metadata": {},
   "outputs": [],
   "source": []
  }
 ],
 "metadata": {
  "kernelspec": {
   "display_name": "Python 3",
   "language": "python",
   "name": "python3"
  },
  "language_info": {
   "codemirror_mode": {
    "name": "ipython",
    "version": 3
   },
   "file_extension": ".py",
   "mimetype": "text/x-python",
   "name": "python",
   "nbconvert_exporter": "python",
   "pygments_lexer": "ipython3",
   "version": "3.6.3"
  }
 },
 "nbformat": 4,
 "nbformat_minor": 2
}
