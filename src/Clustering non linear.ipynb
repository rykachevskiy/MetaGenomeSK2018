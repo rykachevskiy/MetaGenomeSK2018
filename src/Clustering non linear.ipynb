{
 "cells": [
  {
   "cell_type": "code",
   "execution_count": 1,
   "metadata": {},
   "outputs": [],
   "source": [
    "import numpy as np\n",
    "import matplotlib.pyplot as plt\n",
    "import tqdm \n",
    "import os"
   ]
  },
  {
   "cell_type": "code",
   "execution_count": 2,
   "metadata": {},
   "outputs": [],
   "source": [
    "path = \"../data/nonlinear/\""
   ]
  },
  {
   "cell_type": "code",
   "execution_count": 3,
   "metadata": {},
   "outputs": [],
   "source": [
    "paths = [path + x for x in os.listdir(path)]"
   ]
  },
  {
   "cell_type": "code",
   "execution_count": 4,
   "metadata": {},
   "outputs": [
    {
     "data": {
      "text/plain": [
       "['../data/nonlinear/data_G_dropped_samples_pca_99_lle.npy',\n",
       " '../data/nonlinear/mask_data_G_pca_99_isomap.npy',\n",
       " '../data/nonlinear/data_G_dropped_samples_pca_99_isomap.npy',\n",
       " '../data/nonlinear/data_O_pca_99_lle.npy',\n",
       " '../data/nonlinear/mask_data_G_pca_99_lle.npy',\n",
       " '../data/nonlinear/data_G_pca_99_lle.npy',\n",
       " '../data/nonlinear/data_O_pca_99_isomap.npy',\n",
       " '../data/nonlinear/data_F_dropped_samples_pca_99_isomap.npy',\n",
       " '../data/nonlinear/data_G_pca_99_moified_lle.npy',\n",
       " '../data/nonlinear/mask_data_G_pca_99_moified_lle.npy',\n",
       " '../data/nonlinear/mask_data_G_dropped_samples_pca_99_isomap.npy',\n",
       " '../data/nonlinear/data_F_dropped_samples_pca_99_moified_lle.npy',\n",
       " '../data/nonlinear/mask_data_G_dropped_samples_pca_99_lle.npy',\n",
       " '../data/nonlinear/data_F_pca_99_moified_lle.npy',\n",
       " '../data/nonlinear/data_F_dropped_samples_pca_99_lle.npy',\n",
       " '../data/nonlinear/data_G_pca_99_isomap.npy',\n",
       " '../data/nonlinear/data_O_pca_99_moified_lle.npy',\n",
       " '../data/nonlinear/data_F_pca_99_isomap.npy',\n",
       " '../data/nonlinear/data_F_pca_99_lle.npy',\n",
       " '../data/nonlinear/data_G_dropped_samples_pca_99_moified_lle.npy']"
      ]
     },
     "execution_count": 4,
     "metadata": {},
     "output_type": "execute_result"
    }
   ],
   "source": [
    "paths"
   ]
  },
  {
   "cell_type": "code",
   "execution_count": 5,
   "metadata": {},
   "outputs": [],
   "source": [
    "datasets = [np.load(path) for path in paths]"
   ]
  },
  {
   "cell_type": "markdown",
   "metadata": {},
   "source": [
    "## Clustering"
   ]
  },
  {
   "cell_type": "code",
   "execution_count": 6,
   "metadata": {},
   "outputs": [],
   "source": [
    "from scipy.spatial import distance\n",
    "\n",
    "def DB_index(X, clusters_centers, labels):\n",
    "    if -1 in labels:\n",
    "        X = X[labels != -1]\n",
    "        labels = labels[labels != -1]\n",
    "        \n",
    "        #print(len(labels), X.shape)\n",
    "        \n",
    "        \n",
    "    n_clusters = len(clusters_centers)\n",
    "    \n",
    "    d = np.array([distance.euclidean(X[i], clusters_centers[labels[i]]) for i in range(len(X))])\n",
    "    \n",
    "    mean_dist = np.zeros(n_clusters)\n",
    "    for i in range(n_clusters):\n",
    "        mean_dist[i] = d[labels == i].mean()\n",
    "    \n",
    "    return sum([max([(mean_dist[i] + mean_dist[j]) / distance.euclidean(clusters_centers[i], clusters_centers[j]) \n",
    "         for i in range(n_clusters) if i != j]) for j in range(n_clusters)]) / n_clusters"
   ]
  },
  {
   "cell_type": "code",
   "execution_count": 7,
   "metadata": {},
   "outputs": [],
   "source": [
    "def cl_centers(X, pred, n_cl=None):\n",
    "    if n_cl is None:\n",
    "        n_cl = len(set(pred))\n",
    "        if -1 in pred:\n",
    "            n_cl -= 1\n",
    "        \n",
    "    centers = np.zeros((n_cl, X.shape[1]))\n",
    "    \n",
    "    for i in range(n_cl):\n",
    "        centers[i] = X[pred == i].mean(0)\n",
    "        \n",
    "    return centers"
   ]
  },
  {
   "cell_type": "code",
   "execution_count": 8,
   "metadata": {},
   "outputs": [],
   "source": [
    "from sklearn.metrics import calinski_harabaz_score, silhouette_score"
   ]
  },
  {
   "cell_type": "code",
   "execution_count": 9,
   "metadata": {},
   "outputs": [],
   "source": [
    "from sklearn.cluster import DBSCAN, KMeans, SpectralClustering"
   ]
  },
  {
   "cell_type": "code",
   "execution_count": 13,
   "metadata": {},
   "outputs": [
    {
     "name": "stdout",
     "output_type": "stream",
     "text": [
      "data_G_dropped_samples_pca_99_lle\n"
     ]
    },
    {
     "data": {
      "application/vnd.jupyter.widget-view+json": {
       "model_id": "7a7fd756b91a41c9a585d104a96ba8aa",
       "version_major": 2,
       "version_minor": 0
      },
      "text/plain": [
       "A Jupyter Widget"
      ]
     },
     "metadata": {},
     "output_type": "display_data"
    },
    {
     "name": "stdout",
     "output_type": "stream",
     "text": [
      "(2382, 9)\n",
      "0.01\n",
      "0.5671158648436241\n",
      "-0.16358519840285515\n",
      "1752\n",
      "22\n",
      "(2382, 9)\n",
      "0.03111111111111111\n",
      "0.44988072905178994\n",
      "0.5321869154397283\n",
      "2291\n",
      "7\n",
      "(2382, 9)\n",
      "0.052222222222222225\n",
      "0.3005729398882638\n",
      "0.6560844583123684\n",
      "2346\n",
      "4\n",
      "(2382, 9)\n",
      "0.07333333333333333\n",
      "0.23121859103719725\n",
      "0.7911337200669827\n",
      "2374\n",
      "2\n",
      "(2382, 9)\n",
      "0.09444444444444444\n",
      "0.2325010487072367\n",
      "0.809413642145172\n",
      "2378\n",
      "2\n",
      "(2382, 9)\n",
      "0.11555555555555555\n",
      "0.2325010487072367\n",
      "0.809413642145172\n",
      "2378\n",
      "2\n",
      "(2382, 9)\n",
      "0.1366666666666667\n",
      "0.23309508317329466\n",
      "0.8117435694271558\n",
      "2380\n",
      "2\n",
      "(2382, 9)\n",
      "0.1577777777777778\n",
      "0.23309508317329466\n",
      "0.8117435694271558\n",
      "2380\n",
      "2\n",
      "(2382, 9)\n",
      "0.1788888888888889\n",
      "0.23355856617347742\n",
      "0.8105363793312694\n",
      "2381\n",
      "2\n",
      "(2382, 9)\n",
      "0.2\n",
      "0.23407714657157896\n",
      "0.8116243765042418\n",
      "2382\n",
      "2\n",
      "\n",
      "data_G_dropped_samples_pca_99_isomap\n"
     ]
    },
    {
     "data": {
      "application/vnd.jupyter.widget-view+json": {
       "model_id": "10208832c8ae4e95b43f11fe13966cbd",
       "version_major": 2,
       "version_minor": 0
      },
      "text/plain": [
       "A Jupyter Widget"
      ]
     },
     "metadata": {},
     "output_type": "display_data"
    },
    {
     "name": "stdout",
     "output_type": "stream",
     "text": [
      "(2382, 9)\n",
      "0.03111111111111111\n",
      "0.2662739458233526\n",
      "0.12508862762581602\n",
      "47\n",
      "6\n",
      "(2382, 9)\n",
      "0.052222222222222225\n",
      "0.11111205833016677\n",
      "-0.10073766506741104\n",
      "81\n",
      "9\n",
      "(2382, 9)\n",
      "0.07333333333333333\n",
      "0.28712715364165586\n",
      "-0.1558626286839485\n",
      "183\n",
      "17\n",
      "(2382, 9)\n",
      "0.09444444444444444\n",
      "0.312183645145774\n",
      "-0.19527664034100475\n",
      "292\n",
      "23\n",
      "(2382, 9)\n",
      "0.11555555555555555\n",
      "0.44766678039631824\n",
      "-0.24883573435432144\n",
      "433\n",
      "29\n",
      "(2382, 9)\n",
      "0.1366666666666667\n",
      "0.41975343252609965\n",
      "-0.21698717271909285\n",
      "598\n",
      "35\n",
      "(2382, 9)\n",
      "0.1577777777777778\n",
      "0.6897887670504843\n",
      "-0.1394125882676204\n",
      "935\n",
      "47\n",
      "(2382, 9)\n",
      "0.1788888888888889\n",
      "0.9791291881733578\n",
      "-0.14087003560753056\n",
      "1326\n",
      "47\n",
      "(2382, 9)\n",
      "0.2\n",
      "0.9653436574145651\n",
      "-0.1816336630818689\n",
      "1677\n",
      "30\n",
      "\n",
      "data_O_pca_99_lle\n"
     ]
    },
    {
     "data": {
      "application/vnd.jupyter.widget-view+json": {
       "model_id": "62ca37d42bb54deb98d86647b42d9258",
       "version_major": 2,
       "version_minor": 0
      },
      "text/plain": [
       "A Jupyter Widget"
      ]
     },
     "metadata": {},
     "output_type": "display_data"
    },
    {
     "name": "stdout",
     "output_type": "stream",
     "text": [
      "(4249, 7)\n",
      "0.01\n",
      "0.7873048888810831\n",
      "-0.13569119768728996\n",
      "3654\n",
      "21\n",
      "(4249, 7)\n",
      "0.03111111111111111\n",
      "0.3736006680974778\n",
      "0.6571384599310989\n",
      "4236\n",
      "3\n",
      "\n",
      "data_G_pca_99_lle\n"
     ]
    },
    {
     "data": {
      "application/vnd.jupyter.widget-view+json": {
       "model_id": "a2bd758ba33f4f0c9fb462a21aa43ce4",
       "version_major": 2,
       "version_minor": 0
      },
      "text/plain": [
       "A Jupyter Widget"
      ]
     },
     "metadata": {},
     "output_type": "display_data"
    },
    {
     "name": "stdout",
     "output_type": "stream",
     "text": [
      "(4224, 9)\n",
      "0.01\n",
      "0.6692824717969532\n",
      "-0.1768974122357914\n",
      "3469\n",
      "25\n",
      "(4224, 9)\n",
      "0.03111111111111111\n",
      "0.41240085651779784\n",
      "0.416702052974532\n",
      "4175\n",
      "6\n",
      "(4224, 9)\n",
      "0.052222222222222225\n",
      "0.3900699870250867\n",
      "0.634528381226624\n",
      "4209\n",
      "3\n",
      "\n",
      "data_O_pca_99_isomap\n"
     ]
    },
    {
     "data": {
      "application/vnd.jupyter.widget-view+json": {
       "model_id": "ee468ff4ba78456a9360838356eabe5d",
       "version_major": 2,
       "version_minor": 0
      },
      "text/plain": [
       "A Jupyter Widget"
      ]
     },
     "metadata": {},
     "output_type": "display_data"
    },
    {
     "name": "stdout",
     "output_type": "stream",
     "text": [
      "(4249, 7)\n",
      "0.01\n",
      "0.22834818202283477\n",
      "-0.21098202588288184\n",
      "97\n",
      "9\n",
      "(4249, 7)\n",
      "0.03111111111111111\n",
      "0.1410773550498599\n",
      "-0.2804355495345274\n",
      "318\n",
      "14\n",
      "(4249, 7)\n",
      "0.052222222222222225\n",
      "0.20791182061000865\n",
      "-0.3223514767596113\n",
      "568\n",
      "20\n",
      "(4249, 7)\n",
      "0.07333333333333333\n",
      "0.35230625352253164\n",
      "-0.28210558613436953\n",
      "844\n",
      "29\n",
      "(4249, 7)\n",
      "0.09444444444444444\n",
      "0.47143051553072407\n",
      "-0.2646089066981579\n",
      "1187\n",
      "45\n",
      "(4249, 7)\n",
      "0.11555555555555555\n",
      "0.6763243538574867\n",
      "-0.22744709099221896\n",
      "1651\n",
      "70\n",
      "(4249, 7)\n",
      "0.1366666666666667\n",
      "0.7805653952803245\n",
      "-0.16385245798861986\n",
      "2217\n",
      "70\n",
      "(4249, 7)\n",
      "0.1577777777777778\n",
      "0.9568181176162861\n",
      "-0.20024182032361082\n",
      "2786\n",
      "53\n",
      "(4249, 7)\n",
      "0.1788888888888889\n",
      "1.1193226974136625\n",
      "-0.26990327068317704\n",
      "3406\n",
      "36\n",
      "(4249, 7)\n",
      "0.2\n",
      "1.0393066111081206\n",
      "-0.23841576485464366\n",
      "3792\n",
      "23\n",
      "\n",
      "data_F_dropped_samples_pca_99_isomap\n"
     ]
    },
    {
     "data": {
      "application/vnd.jupyter.widget-view+json": {
       "model_id": "7df87e4080954521b4afa8cd04dc927b",
       "version_major": 2,
       "version_minor": 0
      },
      "text/plain": [
       "A Jupyter Widget"
      ]
     },
     "metadata": {},
     "output_type": "display_data"
    },
    {
     "name": "stdout",
     "output_type": "stream",
     "text": [
      "(856, 8)\n",
      "0.03111111111111111\n",
      "0.011964121379376145\n",
      "0.2921851706949557\n",
      "10\n",
      "2\n",
      "(856, 8)\n",
      "0.052222222222222225\n",
      "0.044341038312199724\n",
      "0.13449609175882826\n",
      "29\n",
      "4\n",
      "(856, 8)\n",
      "0.07333333333333333\n",
      "0.2247432444904017\n",
      "0.017306499805884477\n",
      "56\n",
      "7\n",
      "(856, 8)\n",
      "0.09444444444444444\n",
      "0.1955658597434791\n",
      "-0.053456628011685645\n",
      "90\n",
      "10\n",
      "(856, 8)\n",
      "0.11555555555555555\n",
      "0.36296104375418753\n",
      "-0.08644738054482835\n",
      "123\n",
      "14\n",
      "(856, 8)\n",
      "0.1366666666666667\n",
      "0.2540569361602343\n",
      "-0.07273946035028679\n",
      "167\n",
      "15\n",
      "(856, 8)\n",
      "0.1577777777777778\n",
      "0.3958638458376808\n",
      "-0.074632761063946\n",
      "252\n",
      "21\n",
      "(856, 8)\n",
      "0.1788888888888889\n",
      "0.693534805619899\n",
      "-0.04043663252617614\n",
      "365\n",
      "30\n",
      "(856, 8)\n",
      "0.2\n",
      "0.7635662343152124\n",
      "0.04996686525848226\n",
      "469\n",
      "27\n",
      "\n",
      "data_G_pca_99_moified_lle\n"
     ]
    },
    {
     "data": {
      "application/vnd.jupyter.widget-view+json": {
       "model_id": "8545e34468e34ce58d51c899df8f18d8",
       "version_major": 2,
       "version_minor": 0
      },
      "text/plain": [
       "A Jupyter Widget"
      ]
     },
     "metadata": {},
     "output_type": "display_data"
    },
    {
     "name": "stdout",
     "output_type": "stream",
     "text": [
      "(4224, 9)\n",
      "0.01\n",
      "0.40925511285338745\n",
      "0.31116382770886214\n",
      "4057\n",
      "12\n",
      "(4224, 9)\n",
      "0.03111111111111111\n",
      "0.15754675027984172\n",
      "0.7776420397409879\n",
      "4182\n",
      "5\n",
      "(4224, 9)\n",
      "0.052222222222222225\n",
      "0.17180807406591017\n",
      "0.852360723316885\n",
      "4200\n",
      "4\n",
      "(4224, 9)\n",
      "0.07333333333333333\n",
      "0.3238156449028062\n",
      "0.8639332480799959\n",
      "4213\n",
      "3\n",
      "\n",
      "data_F_dropped_samples_pca_99_moified_lle\n"
     ]
    },
    {
     "data": {
      "application/vnd.jupyter.widget-view+json": {
       "model_id": "6085caba7d054f068d9288e0322ba43f",
       "version_major": 2,
       "version_minor": 0
      },
      "text/plain": [
       "A Jupyter Widget"
      ]
     },
     "metadata": {},
     "output_type": "display_data"
    },
    {
     "name": "stdout",
     "output_type": "stream",
     "text": [
      "(856, 8)\n",
      "0.01\n",
      "0.6172345744646686\n",
      "-0.06808517960430771\n",
      "639\n",
      "10\n",
      "(856, 8)\n",
      "0.03111111111111111\n",
      "0.33444516667712987\n",
      "0.5424216853842084\n",
      "795\n",
      "5\n",
      "(856, 8)\n",
      "0.052222222222222225\n",
      "0.3189281487945029\n",
      "0.5781716144537656\n",
      "818\n",
      "4\n",
      "(856, 8)\n",
      "0.07333333333333333\n",
      "0.3392186941938469\n",
      "0.7252544450874705\n",
      "828\n",
      "2\n",
      "\n",
      "data_F_pca_99_moified_lle\n"
     ]
    },
    {
     "data": {
      "application/vnd.jupyter.widget-view+json": {
       "model_id": "fd7deb950b404e338678b9df33455687",
       "version_major": 2,
       "version_minor": 0
      },
      "text/plain": [
       "A Jupyter Widget"
      ]
     },
     "metadata": {},
     "output_type": "display_data"
    },
    {
     "name": "stdout",
     "output_type": "stream",
     "text": [
      "(4273, 8)\n",
      "0.01\n",
      "0.5086291186031562\n",
      "0.17165105596278551\n",
      "4157\n",
      "11\n",
      "(4273, 8)\n",
      "0.03111111111111111\n",
      "0.15365255219935522\n",
      "0.7188766474773461\n",
      "4265\n",
      "2\n",
      "(4273, 8)\n",
      "0.052222222222222225\n",
      "0.2167829638993174\n",
      "0.7207212103816173\n",
      "4272\n",
      "2\n",
      "(4273, 8)\n",
      "0.07333333333333333\n",
      "0.21689093162526268\n",
      "0.8517068254488206\n",
      "4273\n",
      "2\n",
      "\n",
      "data_F_dropped_samples_pca_99_lle\n"
     ]
    },
    {
     "data": {
      "application/vnd.jupyter.widget-view+json": {
       "model_id": "ffd943e9044e4139b0f45547c717a4f7",
       "version_major": 2,
       "version_minor": 0
      },
      "text/plain": [
       "A Jupyter Widget"
      ]
     },
     "metadata": {},
     "output_type": "display_data"
    },
    {
     "name": "stdout",
     "output_type": "stream",
     "text": [
      "(856, 8)\n",
      "0.01\n",
      "0.47835403004227767\n",
      "-0.2538771297393307\n",
      "63\n",
      "7\n",
      "(856, 8)\n",
      "0.03111111111111111\n",
      "0.6284905365439202\n",
      "0.08000717111945801\n",
      "663\n",
      "10\n",
      "(856, 8)\n",
      "0.052222222222222225\n",
      "0.7569580931599456\n",
      "0.3344761368898051\n",
      "808\n",
      "3\n",
      "\n",
      "data_G_pca_99_isomap\n"
     ]
    },
    {
     "data": {
      "application/vnd.jupyter.widget-view+json": {
       "model_id": "fa623e4b2ffa4ea78905ee9d8272311d",
       "version_major": 2,
       "version_minor": 0
      },
      "text/plain": [
       "A Jupyter Widget"
      ]
     },
     "metadata": {},
     "output_type": "display_data"
    },
    {
     "name": "stdout",
     "output_type": "stream",
     "text": [
      "(4224, 9)\n",
      "0.01\n",
      "0.0063043943081749826\n",
      "0.14321505485771152\n",
      "20\n",
      "2\n",
      "(4224, 9)\n",
      "0.03111111111111111\n",
      "0.029454676090759236\n",
      "0.03568953532797628\n",
      "59\n",
      "5\n",
      "(4224, 9)\n",
      "0.052222222222222225\n",
      "0.20404530579120814\n",
      "-0.27370757141269997\n",
      "194\n",
      "22\n",
      "(4224, 9)\n",
      "0.07333333333333333\n",
      "0.2631362111383128\n",
      "-0.27506501815775786\n",
      "334\n",
      "27\n",
      "(4224, 9)\n",
      "0.09444444444444444\n",
      "0.40005220254890805\n",
      "-0.3685098285901111\n",
      "541\n",
      "47\n",
      "(4224, 9)\n",
      "0.11555555555555555\n",
      "0.5864340909379705\n",
      "-0.31997507944971115\n",
      "891\n",
      "58\n",
      "(4224, 9)\n",
      "0.1366666666666667\n",
      "0.6764594611584706\n",
      "-0.2770980039736982\n",
      "1330\n",
      "74\n",
      "(4224, 9)\n",
      "0.1577777777777778\n",
      "0.8381717744135437\n",
      "-0.19191103964568837\n",
      "1922\n",
      "80\n",
      "(4224, 9)\n",
      "0.1788888888888889\n",
      "1.2084376216868413\n",
      "-0.26132171022437345\n",
      "2784\n",
      "64\n",
      "(4224, 9)\n",
      "0.2\n",
      "1.183687495581881\n",
      "-0.32524949376592976\n",
      "3385\n",
      "39\n",
      "\n",
      "data_O_pca_99_moified_lle\n"
     ]
    },
    {
     "data": {
      "application/vnd.jupyter.widget-view+json": {
       "model_id": "21a71db59e424f45b5732b5f1983d3c3",
       "version_major": 2,
       "version_minor": 0
      },
      "text/plain": [
       "A Jupyter Widget"
      ]
     },
     "metadata": {},
     "output_type": "display_data"
    },
    {
     "name": "stdout",
     "output_type": "stream",
     "text": [
      "(4249, 7)\n",
      "0.01\n",
      "0.25511426374500795\n",
      "0.5689210187618148\n",
      "4210\n",
      "4\n",
      "(4249, 7)\n",
      "0.03111111111111111\n",
      "0.24717202513917644\n",
      "0.8169514871298696\n",
      "4249\n",
      "2\n",
      "\n",
      "data_F_pca_99_isomap\n"
     ]
    },
    {
     "data": {
      "application/vnd.jupyter.widget-view+json": {
       "model_id": "e514e2b7263848eba6d15f4e00699697",
       "version_major": 2,
       "version_minor": 0
      },
      "text/plain": [
       "A Jupyter Widget"
      ]
     },
     "metadata": {},
     "output_type": "display_data"
    },
    {
     "name": "stdout",
     "output_type": "stream",
     "text": [
      "(4273, 8)\n",
      "0.01\n",
      "0.007339161136843154\n",
      "0.16115019734931316\n",
      "27\n",
      "3\n",
      "(4273, 8)\n",
      "0.03111111111111111\n",
      "0.03749783383647945\n",
      "-0.11989733614350244\n",
      "142\n",
      "11\n",
      "(4273, 8)\n",
      "0.052222222222222225\n",
      "0.2590761038095699\n",
      "-0.22940236191774724\n",
      "308\n",
      "21\n",
      "(4273, 8)\n",
      "0.07333333333333333\n",
      "0.39353051062172245\n",
      "-0.28519299818868465\n",
      "539\n",
      "35\n",
      "(4273, 8)\n",
      "0.09444444444444444\n",
      "0.4828433305304306\n",
      "-0.30371466307986167\n",
      "786\n",
      "43\n",
      "(4273, 8)\n",
      "0.11555555555555555\n",
      "0.567718397789674\n",
      "-0.27921141279978434\n",
      "1136\n",
      "55\n",
      "(4273, 8)\n",
      "0.1366666666666667\n",
      "0.7233344616123412\n",
      "-0.19559876680766597\n",
      "1640\n",
      "68\n",
      "(4273, 8)\n",
      "0.1577777777777778\n",
      "1.018419308580263\n",
      "-0.189238045188389\n",
      "2400\n",
      "73\n",
      "(4273, 8)\n",
      "0.1788888888888889\n",
      "1.119983410471696\n",
      "-0.263005083630556\n",
      "3045\n",
      "42\n",
      "(4273, 8)\n",
      "0.2\n",
      "1.213164247212946\n",
      "-0.24500973497268164\n",
      "3534\n",
      "34\n",
      "\n",
      "data_F_pca_99_lle\n"
     ]
    },
    {
     "data": {
      "application/vnd.jupyter.widget-view+json": {
       "model_id": "d4725fb0f2b64353938013ddc273336e",
       "version_major": 2,
       "version_minor": 0
      },
      "text/plain": [
       "A Jupyter Widget"
      ]
     },
     "metadata": {},
     "output_type": "display_data"
    },
    {
     "name": "stdout",
     "output_type": "stream",
     "text": [
      "(4273, 8)\n",
      "0.01\n",
      "0.8230857843676757\n",
      "-0.1061227803400943\n",
      "3772\n",
      "11\n",
      "(4273, 8)\n",
      "0.03111111111111111\n",
      "0.28586474428835884\n",
      "0.7245321385992826\n",
      "4244\n",
      "2\n",
      "(4273, 8)\n",
      "0.052222222222222225\n",
      "0.277664201051302\n",
      "0.725849421214607\n",
      "4260\n",
      "3\n",
      "(4273, 8)\n",
      "0.07333333333333333\n",
      "0.41326513820099925\n",
      "0.7389471656427268\n",
      "4265\n",
      "2\n",
      "\n",
      "data_G_dropped_samples_pca_99_moified_lle\n"
     ]
    },
    {
     "data": {
      "application/vnd.jupyter.widget-view+json": {
       "model_id": "92e318b8436248cea8f2718e839d42b7",
       "version_major": 2,
       "version_minor": 0
      },
      "text/plain": [
       "A Jupyter Widget"
      ]
     },
     "metadata": {},
     "output_type": "display_data"
    },
    {
     "name": "stdout",
     "output_type": "stream",
     "text": [
      "(2382, 9)\n",
      "0.01\n",
      "0.1668410368615846\n",
      "0.7338271393859046\n",
      "2248\n",
      "6\n",
      "(2382, 9)\n",
      "0.03111111111111111\n",
      "0.21357717453721947\n",
      "0.7850049248799631\n",
      "2346\n",
      "6\n",
      "(2382, 9)\n",
      "0.052222222222222225\n",
      "0.18369185124388893\n",
      "0.8614745891179432\n",
      "2365\n",
      "4\n",
      "(2382, 9)\n",
      "0.07333333333333333\n",
      "0.24064542560389973\n",
      "0.8693792839600396\n",
      "2372\n",
      "4\n",
      "\n"
     ]
    }
   ],
   "source": [
    "all_dbscan_indexes = []\n",
    "for dataset, label in zip(datasets, paths):\n",
    "    print(label.split(\"/\")[-1].split(\".\")[0])\n",
    "    indexes = []\n",
    "    for eps in tqdm.tqdm_notebook(np.linspace(0.01, 0.2, 10)):\n",
    "        dbscan = DBSCAN(eps)\n",
    "        #dbscan.fit(dataset)\n",
    "        pred = dbscan.fit_predict(dataset)\n",
    "        if max(pred) > 0:\n",
    "            centers = cl_centers(dataset, pred)\n",
    "\n",
    "            ind = DB_index(dataset, centers, pred)\n",
    "#             print(\"shape: \", dataset.shape)\n",
    "#             print(\"dbscan eps: \", eps)\n",
    "#             print(\"Davies-Bouldin index, silhouette_score: \", ind, silhouette_score(dataset, pred))\n",
    "#             print(\"Classified_samples, classes: \", (pred != -1).sum(), max(pred))\n",
    "            print(dataset.shape)\n",
    "            print(eps)\n",
    "            print(ind)\n",
    "            print(silhouette_score(dataset, pred))\n",
    "            print((pred != -1).sum())\n",
    "            print(1+max(pred))\n",
    "            indexes.append(ind)\n",
    "        else:\n",
    "            indexes.append(-1)\n",
    "    \n",
    "    all_dbscan_indexes.append(indexes)"
   ]
  },
  {
   "cell_type": "code",
   "execution_count": null,
   "metadata": {},
   "outputs": [],
   "source": []
  },
  {
   "cell_type": "code",
   "execution_count": null,
   "metadata": {},
   "outputs": [],
   "source": []
  },
  {
   "cell_type": "code",
   "execution_count": 10,
   "metadata": {},
   "outputs": [],
   "source": [
    "d= np.load(paths[-1])"
   ]
  },
  {
   "cell_type": "code",
   "execution_count": 11,
   "metadata": {},
   "outputs": [
    {
     "data": {
      "text/plain": [
       "'../data/nonlinear/data_G_dropped_samples_pca_99_moified_lle.npy'"
      ]
     },
     "execution_count": 11,
     "metadata": {},
     "output_type": "execute_result"
    }
   ],
   "source": [
    "paths[-1]"
   ]
  },
  {
   "cell_type": "code",
   "execution_count": null,
   "metadata": {},
   "outputs": [],
   "source": []
  },
  {
   "cell_type": "code",
   "execution_count": null,
   "metadata": {},
   "outputs": [],
   "source": []
  },
  {
   "cell_type": "code",
   "execution_count": 32,
   "metadata": {},
   "outputs": [],
   "source": [
    "cl = DBSCAN(0.005)"
   ]
  },
  {
   "cell_type": "code",
   "execution_count": 33,
   "metadata": {},
   "outputs": [],
   "source": [
    "clusters = cl.fit_predict(d)"
   ]
  },
  {
   "cell_type": "code",
   "execution_count": 34,
   "metadata": {},
   "outputs": [],
   "source": [
    "from collections import Counter"
   ]
  },
  {
   "cell_type": "code",
   "execution_count": 45,
   "metadata": {},
   "outputs": [
    {
     "name": "stdout",
     "output_type": "stream",
     "text": [
      "Counter({-1: 2399})\n",
      "\n",
      "\n",
      "Counter({-1: 1833, 1: 424, 4: 13, 10: 9, 12: 9, 3: 8, 11: 8, 2: 7, 6: 7, 19: 7, 8: 6, 16: 6, 13: 6, 15: 6, 17: 6, 0: 5, 9: 5, 14: 5, 5: 5, 7: 5, 21: 5, 22: 5, 20: 5, 18: 4})\n",
      "-0.549639140739717\n",
      "\n",
      "Counter({1: 1165, -1: 900, 16: 68, 18: 49, 22: 28, 5: 13, 2: 12, 9: 12, 6: 11, 13: 11, 19: 9, 0: 8, 25: 8, 15: 8, 14: 8, 20: 8, 8: 7, 4: 6, 12: 6, 7: 6, 23: 6, 24: 6, 26: 6, 3: 5, 21: 5, 17: 5, 10: 5, 11: 5, 28: 5, 27: 5, 29: 3})\n",
      "-0.2257214431145529\n",
      "\n",
      "Counter({2: 1595, -1: 626, 4: 28, 0: 20, 13: 20, 6: 10, 7: 10, 9: 9, 14: 9, 16: 9, 1: 8, 17: 8, 5: 6, 8: 6, 19: 6, 3: 5, 11: 5, 10: 5, 15: 5, 18: 5, 12: 4})\n",
      "-0.27339850333384963\n",
      "\n",
      "Counter({2: 1829, -1: 460, 1: 24, 10: 20, 5: 11, 0: 8, 3: 8, 4: 6, 6: 6, 9: 6, 12: 6, 8: 5, 7: 5, 11: 5})\n",
      "-0.18915652578883835\n",
      "\n",
      "Counter({2: 1900, -1: 378, 1: 24, 9: 21, 4: 10, 0: 8, 11: 8, 12: 7, 5: 6, 10: 6, 8: 6, 3: 5, 7: 5, 6: 5, 14: 5, 13: 5})\n",
      "-0.24159168232961722\n",
      "\n",
      "Counter({2: 1990, -1: 325, 1: 24, 4: 11, 0: 8, 7: 8, 9: 6, 5: 6, 8: 6, 3: 5, 6: 5, 10: 5})\n",
      "-0.17337750305764052\n",
      "\n",
      "Counter({2: 2049, -1: 260, 1: 24, 3: 11, 8: 11, 0: 8, 6: 8, 4: 6, 9: 6, 10: 6, 5: 5, 7: 5})\n",
      "-0.17887750699922916\n",
      "\n",
      "Counter({1: 2090, -1: 230, 0: 13, 7: 13, 3: 11, 6: 8, 10: 7, 4: 6, 8: 6, 9: 5, 2: 5, 5: 5})\n",
      "-0.15976374386265382\n",
      "\n",
      "Counter({2: 2120, -1: 207, 1: 13, 8: 13, 5: 11, 3: 7, 9: 7, 6: 6, 0: 5, 4: 5, 7: 5})\n",
      "0.3765130747784852\n",
      "\n"
     ]
    }
   ],
   "source": [
    "for eps in np.linspace(0.0001, 0.01, 10):\n",
    "    cl = DBSCAN(eps)\n",
    "    clusters = cl.fit_predict(d)\n",
    "    \n",
    "    print(Counter(clusters))\n",
    "    try:\n",
    "        print(silhouette_score(d, clusters))\n",
    "    except:\n",
    "        print()\n",
    "    print()"
   ]
  },
  {
   "cell_type": "code",
   "execution_count": 40,
   "metadata": {
    "scrolled": true
   },
   "outputs": [
    {
     "data": {
      "text/plain": [
       "Counter({0: 2399})"
      ]
     },
     "execution_count": 40,
     "metadata": {},
     "output_type": "execute_result"
    }
   ],
   "source": [
    "Counter(clusters)"
   ]
  },
  {
   "cell_type": "code",
   "execution_count": 31,
   "metadata": {},
   "outputs": [
    {
     "data": {
      "text/plain": [
       "-0.5306989826078677"
      ]
     },
     "execution_count": 31,
     "metadata": {},
     "output_type": "execute_result"
    }
   ],
   "source": [
    "silhouette_score(d, clusters)"
   ]
  },
  {
   "cell_type": "code",
   "execution_count": null,
   "metadata": {},
   "outputs": [],
   "source": []
  },
  {
   "cell_type": "code",
   "execution_count": null,
   "metadata": {},
   "outputs": [],
   "source": []
  },
  {
   "cell_type": "code",
   "execution_count": null,
   "metadata": {},
   "outputs": [],
   "source": []
  },
  {
   "cell_type": "code",
   "execution_count": 27,
   "metadata": {
    "scrolled": true
   },
   "outputs": [
    {
     "name": "stdout",
     "output_type": "stream",
     "text": [
      "data_G_dropped_samples_pca_99_lle\n"
     ]
    },
    {
     "data": {
      "application/vnd.jupyter.widget-view+json": {
       "model_id": "0e1bba2000cb41ad960e59c694e43867",
       "version_major": 2,
       "version_minor": 0
      },
      "text/plain": [
       "A Jupyter Widget"
      ]
     },
     "metadata": {},
     "output_type": "display_data"
    },
    {
     "name": "stdout",
     "output_type": "stream",
     "text": [
      "shape:  (2382, 9)\n",
      "n_clusters:  3\n",
      "Davies-Bouldin index, silhouette_score:  1.738519420674361 0.46608318440643387\n",
      "Classified_samples, classes:  2382 2\n",
      "shape:  (2382, 9)\n",
      "n_clusters:  5\n",
      "Davies-Bouldin index, silhouette_score:  0.9659964467813552 0.3744059548314445\n",
      "Classified_samples, classes:  2382 4\n",
      "shape:  (2382, 9)\n",
      "n_clusters:  7\n",
      "Davies-Bouldin index, silhouette_score:  0.9858247646247901 0.43685241759952104\n",
      "Classified_samples, classes:  2382 6\n",
      "shape:  (2382, 9)\n",
      "n_clusters:  9\n",
      "Davies-Bouldin index, silhouette_score:  1.0279020495151723 0.20431171589582986\n",
      "Classified_samples, classes:  2382 8\n",
      "shape:  (2382, 9)\n",
      "n_clusters:  11\n",
      "Davies-Bouldin index, silhouette_score:  0.959352461352385 0.20556052430065577\n",
      "Classified_samples, classes:  2382 10\n",
      "\n",
      "data_G_dropped_samples_pca_99_isomap\n"
     ]
    },
    {
     "data": {
      "application/vnd.jupyter.widget-view+json": {
       "model_id": "06139f3cf3764a21a6735259794e69a4",
       "version_major": 2,
       "version_minor": 0
      },
      "text/plain": [
       "A Jupyter Widget"
      ]
     },
     "metadata": {},
     "output_type": "display_data"
    },
    {
     "name": "stdout",
     "output_type": "stream",
     "text": [
      "shape:  (2382, 9)\n",
      "n_clusters:  3\n",
      "Davies-Bouldin index, silhouette_score:  1.4561940138445697 0.22160305829882615\n",
      "Classified_samples, classes:  2382 2\n",
      "shape:  (2382, 9)\n",
      "n_clusters:  5\n",
      "Davies-Bouldin index, silhouette_score:  1.45973176011034 0.2326079299420566\n",
      "Classified_samples, classes:  2382 4\n",
      "shape:  (2382, 9)\n",
      "n_clusters:  7\n",
      "Davies-Bouldin index, silhouette_score:  1.3375480763365737 0.25807420486591276\n",
      "Classified_samples, classes:  2382 6\n",
      "shape:  (2382, 9)\n",
      "n_clusters:  9\n",
      "Davies-Bouldin index, silhouette_score:  1.3950148433040472 0.2532965141981672\n",
      "Classified_samples, classes:  2382 8\n",
      "shape:  (2382, 9)\n",
      "n_clusters:  11\n",
      "Davies-Bouldin index, silhouette_score:  1.2894784372563843 0.2675475250500862\n",
      "Classified_samples, classes:  2382 10\n",
      "\n",
      "data_O_pca_99_lle\n"
     ]
    },
    {
     "data": {
      "application/vnd.jupyter.widget-view+json": {
       "model_id": "2f0c18645ea849e2a49fad56cac399b5",
       "version_major": 2,
       "version_minor": 0
      },
      "text/plain": [
       "A Jupyter Widget"
      ]
     },
     "metadata": {},
     "output_type": "display_data"
    },
    {
     "name": "stdout",
     "output_type": "stream",
     "text": [
      "shape:  (4249, 7)\n",
      "n_clusters:  3\n",
      "Davies-Bouldin index, silhouette_score:  1.7181425394880947 0.15323665847840356\n",
      "Classified_samples, classes:  4249 2\n",
      "shape:  (4249, 7)\n",
      "n_clusters:  5\n",
      "Davies-Bouldin index, silhouette_score:  1.3763514955641736 0.24196850513175922\n",
      "Classified_samples, classes:  4249 4\n",
      "shape:  (4249, 7)\n",
      "n_clusters:  7\n",
      "Davies-Bouldin index, silhouette_score:  1.199523819797134 0.25668140916197496\n",
      "Classified_samples, classes:  4249 6\n",
      "shape:  (4249, 7)\n",
      "n_clusters:  9\n",
      "Davies-Bouldin index, silhouette_score:  1.0430247882686339 0.2648943110245152\n",
      "Classified_samples, classes:  4249 8\n",
      "shape:  (4249, 7)\n",
      "n_clusters:  11\n",
      "Davies-Bouldin index, silhouette_score:  1.0351745744660734 0.2900514519522989\n",
      "Classified_samples, classes:  4249 10\n",
      "\n",
      "data_G_pca_99_lle\n"
     ]
    },
    {
     "data": {
      "application/vnd.jupyter.widget-view+json": {
       "model_id": "4ff99a23be334cca91733b17cc82fa6a",
       "version_major": 2,
       "version_minor": 0
      },
      "text/plain": [
       "A Jupyter Widget"
      ]
     },
     "metadata": {},
     "output_type": "display_data"
    },
    {
     "name": "stdout",
     "output_type": "stream",
     "text": [
      "shape:  (4224, 9)\n",
      "n_clusters:  3\n",
      "Davies-Bouldin index, silhouette_score:  1.3712340059562829 0.32634210555307763\n",
      "Classified_samples, classes:  4224 2\n",
      "shape:  (4224, 9)\n",
      "n_clusters:  5\n",
      "Davies-Bouldin index, silhouette_score:  1.401529258979966 0.28163139816490157\n",
      "Classified_samples, classes:  4224 4\n",
      "shape:  (4224, 9)\n",
      "n_clusters:  7\n",
      "Davies-Bouldin index, silhouette_score:  1.2050123002279711 0.21985983739043033\n",
      "Classified_samples, classes:  4224 6\n",
      "shape:  (4224, 9)\n",
      "n_clusters:  9\n",
      "Davies-Bouldin index, silhouette_score:  1.1708549011345941 0.2224946322492292\n",
      "Classified_samples, classes:  4224 8\n",
      "shape:  (4224, 9)\n",
      "n_clusters:  11\n",
      "Davies-Bouldin index, silhouette_score:  1.0787788037866568 0.23114599356063045\n",
      "Classified_samples, classes:  4224 10\n",
      "\n",
      "data_O_pca_99_isomap\n"
     ]
    },
    {
     "data": {
      "application/vnd.jupyter.widget-view+json": {
       "model_id": "d67bd447a2824b0eb9c9144fc662c908",
       "version_major": 2,
       "version_minor": 0
      },
      "text/plain": [
       "A Jupyter Widget"
      ]
     },
     "metadata": {},
     "output_type": "display_data"
    },
    {
     "name": "stdout",
     "output_type": "stream",
     "text": [
      "shape:  (4249, 7)\n",
      "n_clusters:  3\n",
      "Davies-Bouldin index, silhouette_score:  1.8497848436617856 0.2179835526383547\n",
      "Classified_samples, classes:  4249 2\n",
      "shape:  (4249, 7)\n",
      "n_clusters:  5\n",
      "Davies-Bouldin index, silhouette_score:  1.39876073387368 0.27853769761139446\n",
      "Classified_samples, classes:  4249 4\n",
      "shape:  (4249, 7)\n",
      "n_clusters:  7\n",
      "Davies-Bouldin index, silhouette_score:  1.1477040429880756 0.3319653307793075\n",
      "Classified_samples, classes:  4249 6\n",
      "shape:  (4249, 7)\n",
      "n_clusters:  9\n",
      "Davies-Bouldin index, silhouette_score:  1.062810680437981 0.34462526715790526\n",
      "Classified_samples, classes:  4249 8\n",
      "shape:  (4249, 7)\n",
      "n_clusters:  11\n",
      "Davies-Bouldin index, silhouette_score:  1.0742670673606207 0.33283359902382265\n",
      "Classified_samples, classes:  4249 10\n",
      "\n",
      "data_F_dropped_samples_pca_99_isomap\n"
     ]
    },
    {
     "data": {
      "application/vnd.jupyter.widget-view+json": {
       "model_id": "dfc36e49d6a147429f4d1b9f42f33659",
       "version_major": 2,
       "version_minor": 0
      },
      "text/plain": [
       "A Jupyter Widget"
      ]
     },
     "metadata": {},
     "output_type": "display_data"
    },
    {
     "name": "stdout",
     "output_type": "stream",
     "text": [
      "shape:  (856, 8)\n",
      "n_clusters:  3\n",
      "Davies-Bouldin index, silhouette_score:  1.8824432110336027 0.17593351814262942\n",
      "Classified_samples, classes:  856 2\n",
      "shape:  (856, 8)\n",
      "n_clusters:  5\n",
      "Davies-Bouldin index, silhouette_score:  1.6305707523272148 0.21192240018069716\n",
      "Classified_samples, classes:  856 4\n",
      "shape:  (856, 8)\n",
      "n_clusters:  7\n",
      "Davies-Bouldin index, silhouette_score:  1.2994397481392037 0.2699391468330783\n",
      "Classified_samples, classes:  856 6\n",
      "shape:  (856, 8)\n",
      "n_clusters:  9\n",
      "Davies-Bouldin index, silhouette_score:  1.142016290832454 0.3030977467218808\n",
      "Classified_samples, classes:  856 8\n",
      "shape:  (856, 8)\n",
      "n_clusters:  11\n",
      "Davies-Bouldin index, silhouette_score:  1.130750230026287 0.3032430856641452\n",
      "Classified_samples, classes:  856 10\n",
      "\n",
      "data_G_pca_99_moified_lle\n"
     ]
    },
    {
     "data": {
      "application/vnd.jupyter.widget-view+json": {
       "model_id": "c383e44a934841c5b47bf28fecbed64f",
       "version_major": 2,
       "version_minor": 0
      },
      "text/plain": [
       "A Jupyter Widget"
      ]
     },
     "metadata": {},
     "output_type": "display_data"
    },
    {
     "name": "stdout",
     "output_type": "stream",
     "text": [
      "shape:  (4224, 9)\n",
      "n_clusters:  3\n",
      "Davies-Bouldin index, silhouette_score:  0.3724805260913648 0.8607155401795609\n",
      "Classified_samples, classes:  4224 2\n",
      "shape:  (4224, 9)\n",
      "n_clusters:  5\n",
      "Davies-Bouldin index, silhouette_score:  0.3840748026174809 0.8024787281744189\n",
      "Classified_samples, classes:  4224 4\n",
      "shape:  (4224, 9)\n",
      "n_clusters:  7\n",
      "Davies-Bouldin index, silhouette_score:  0.4483410280217116 0.5917904539669375\n",
      "Classified_samples, classes:  4224 6\n",
      "shape:  (4224, 9)\n",
      "n_clusters:  9\n",
      "Davies-Bouldin index, silhouette_score:  0.4824584965431444 0.6300487553775964\n",
      "Classified_samples, classes:  4224 8\n",
      "shape:  (4224, 9)\n",
      "n_clusters:  11\n",
      "Davies-Bouldin index, silhouette_score:  0.5655034904509653 0.42081228814961663\n",
      "Classified_samples, classes:  4224 10\n",
      "\n",
      "data_F_dropped_samples_pca_99_moified_lle\n"
     ]
    },
    {
     "data": {
      "application/vnd.jupyter.widget-view+json": {
       "model_id": "7837cc9a2d1741f8b4bbeb726d1c4790",
       "version_major": 2,
       "version_minor": 0
      },
      "text/plain": [
       "A Jupyter Widget"
      ]
     },
     "metadata": {},
     "output_type": "display_data"
    },
    {
     "name": "stdout",
     "output_type": "stream",
     "text": [
      "shape:  (856, 8)\n",
      "n_clusters:  3\n",
      "Davies-Bouldin index, silhouette_score:  0.7830404973310437 0.6763092422275222\n",
      "Classified_samples, classes:  856 2\n",
      "shape:  (856, 8)\n",
      "n_clusters:  5\n",
      "Davies-Bouldin index, silhouette_score:  0.7570796411847789 0.44840453588654244\n",
      "Classified_samples, classes:  856 4\n",
      "shape:  (856, 8)\n",
      "n_clusters:  7\n",
      "Davies-Bouldin index, silhouette_score:  0.718826431331171 0.49321378209235467\n",
      "Classified_samples, classes:  856 6\n",
      "shape:  (856, 8)\n",
      "n_clusters:  9\n",
      "Davies-Bouldin index, silhouette_score:  0.5674429251631264 0.54781049382771\n",
      "Classified_samples, classes:  856 8\n",
      "shape:  (856, 8)\n",
      "n_clusters:  11\n",
      "Davies-Bouldin index, silhouette_score:  0.47399970434717154 0.5697065163622326\n",
      "Classified_samples, classes:  856 10\n",
      "\n",
      "data_F_pca_99_moified_lle\n"
     ]
    },
    {
     "data": {
      "application/vnd.jupyter.widget-view+json": {
       "model_id": "3cdb4dd3b6db42498ba281e482aa09a9",
       "version_major": 2,
       "version_minor": 0
      },
      "text/plain": [
       "A Jupyter Widget"
      ]
     },
     "metadata": {},
     "output_type": "display_data"
    },
    {
     "name": "stdout",
     "output_type": "stream",
     "text": [
      "shape:  (4273, 8)\n",
      "n_clusters:  3\n",
      "Davies-Bouldin index, silhouette_score:  0.6163206617719043 0.4644923361387352\n",
      "Classified_samples, classes:  4273 2\n",
      "shape:  (4273, 8)\n",
      "n_clusters:  5\n",
      "Davies-Bouldin index, silhouette_score:  0.5418267295814111 0.5204397808620541\n",
      "Classified_samples, classes:  4273 4\n",
      "shape:  (4273, 8)\n",
      "n_clusters:  7\n",
      "Davies-Bouldin index, silhouette_score:  0.5034675767335076 0.5786740934804742\n",
      "Classified_samples, classes:  4273 6\n",
      "shape:  (4273, 8)\n",
      "n_clusters:  9\n",
      "Davies-Bouldin index, silhouette_score:  0.4473158275014494 0.6160355573839609\n",
      "Classified_samples, classes:  4273 8\n",
      "shape:  (4273, 8)\n",
      "n_clusters:  11\n",
      "Davies-Bouldin index, silhouette_score:  0.4759234957205925 0.5875960343625484\n",
      "Classified_samples, classes:  4273 10\n",
      "\n",
      "data_F_dropped_samples_pca_99_lle\n"
     ]
    },
    {
     "data": {
      "application/vnd.jupyter.widget-view+json": {
       "model_id": "93f2a6cb03134e779b39b22af482dbdf",
       "version_major": 2,
       "version_minor": 0
      },
      "text/plain": [
       "A Jupyter Widget"
      ]
     },
     "metadata": {},
     "output_type": "display_data"
    },
    {
     "name": "stdout",
     "output_type": "stream",
     "text": [
      "shape:  (856, 8)\n",
      "n_clusters:  3\n",
      "Davies-Bouldin index, silhouette_score:  1.7929780614221638 0.11856260978892338\n",
      "Classified_samples, classes:  856 2\n",
      "shape:  (856, 8)\n",
      "n_clusters:  5\n",
      "Davies-Bouldin index, silhouette_score:  1.7010543457426046 0.1445418351667459\n",
      "Classified_samples, classes:  856 4\n",
      "shape:  (856, 8)\n",
      "n_clusters:  7\n",
      "Davies-Bouldin index, silhouette_score:  1.3835091992716755 0.1998458813252127\n",
      "Classified_samples, classes:  856 6\n",
      "shape:  (856, 8)\n",
      "n_clusters:  9\n",
      "Davies-Bouldin index, silhouette_score:  1.209610310423309 0.2255109087328371\n",
      "Classified_samples, classes:  856 8\n",
      "shape:  (856, 8)\n",
      "n_clusters:  11\n",
      "Davies-Bouldin index, silhouette_score:  1.1340002530918385 0.22157010687876735\n",
      "Classified_samples, classes:  856 10\n",
      "\n",
      "data_G_pca_99_isomap\n"
     ]
    },
    {
     "data": {
      "application/vnd.jupyter.widget-view+json": {
       "model_id": "a61d182cb04b4953ab15b21269562edd",
       "version_major": 2,
       "version_minor": 0
      },
      "text/plain": [
       "A Jupyter Widget"
      ]
     },
     "metadata": {},
     "output_type": "display_data"
    },
    {
     "name": "stdout",
     "output_type": "stream",
     "text": [
      "shape:  (4224, 9)\n",
      "n_clusters:  3\n",
      "Davies-Bouldin index, silhouette_score:  1.7734287522023433 0.172545689931599\n",
      "Classified_samples, classes:  4224 2\n",
      "shape:  (4224, 9)\n",
      "n_clusters:  5\n",
      "Davies-Bouldin index, silhouette_score:  1.4994627748925518 0.22369455180598724\n",
      "Classified_samples, classes:  4224 4\n",
      "shape:  (4224, 9)\n",
      "n_clusters:  7\n",
      "Davies-Bouldin index, silhouette_score:  1.2926599937290721 0.25531608792636024\n",
      "Classified_samples, classes:  4224 6\n",
      "shape:  (4224, 9)\n",
      "n_clusters:  9\n",
      "Davies-Bouldin index, silhouette_score:  1.3248702307487181 0.26089913367965256\n",
      "Classified_samples, classes:  4224 8\n",
      "shape:  (4224, 9)\n",
      "n_clusters:  11\n",
      "Davies-Bouldin index, silhouette_score:  1.2156635061229397 0.2733844779856851\n",
      "Classified_samples, classes:  4224 10\n",
      "\n",
      "data_O_pca_99_moified_lle\n"
     ]
    },
    {
     "data": {
      "application/vnd.jupyter.widget-view+json": {
       "model_id": "6419dc55214f405d8af586f30fcb024d",
       "version_major": 2,
       "version_minor": 0
      },
      "text/plain": [
       "A Jupyter Widget"
      ]
     },
     "metadata": {},
     "output_type": "display_data"
    },
    {
     "name": "stdout",
     "output_type": "stream",
     "text": [
      "shape:  (4249, 7)\n",
      "n_clusters:  3\n",
      "Davies-Bouldin index, silhouette_score:  0.4177033436720908 0.6768472985045265\n",
      "Classified_samples, classes:  4249 2\n",
      "shape:  (4249, 7)\n",
      "n_clusters:  5\n",
      "Davies-Bouldin index, silhouette_score:  0.570926311646086 0.4259267589033929\n",
      "Classified_samples, classes:  4249 4\n",
      "shape:  (4249, 7)\n",
      "n_clusters:  7\n",
      "Davies-Bouldin index, silhouette_score:  0.5103995163726134 0.5150838059055032\n",
      "Classified_samples, classes:  4249 6\n",
      "shape:  (4249, 7)\n",
      "n_clusters:  9\n",
      "Davies-Bouldin index, silhouette_score:  0.6022895792932192 0.37231216472594425\n",
      "Classified_samples, classes:  4249 8\n",
      "shape:  (4249, 7)\n",
      "n_clusters:  11\n",
      "Davies-Bouldin index, silhouette_score:  0.5909863330963788 0.4219606536233627\n",
      "Classified_samples, classes:  4249 10\n",
      "\n",
      "data_F_pca_99_isomap\n"
     ]
    },
    {
     "data": {
      "application/vnd.jupyter.widget-view+json": {
       "model_id": "3d1d144f6a714c3989cfa56e4481248b",
       "version_major": 2,
       "version_minor": 0
      },
      "text/plain": [
       "A Jupyter Widget"
      ]
     },
     "metadata": {},
     "output_type": "display_data"
    },
    {
     "name": "stdout",
     "output_type": "stream",
     "text": [
      "shape:  (4273, 8)\n",
      "n_clusters:  3\n",
      "Davies-Bouldin index, silhouette_score:  1.9036949391075322 0.1795310285797375\n",
      "Classified_samples, classes:  4273 2\n",
      "shape:  (4273, 8)\n",
      "n_clusters:  5\n",
      "Davies-Bouldin index, silhouette_score:  1.5057953667960762 0.23624993093444085\n",
      "Classified_samples, classes:  4273 4\n",
      "shape:  (4273, 8)\n",
      "n_clusters:  7\n",
      "Davies-Bouldin index, silhouette_score:  1.3448374663107903 0.2520414993055777\n",
      "Classified_samples, classes:  4273 6\n",
      "shape:  (4273, 8)\n",
      "n_clusters:  9\n",
      "Davies-Bouldin index, silhouette_score:  1.2795676778195548 0.27415124657820183\n",
      "Classified_samples, classes:  4273 8\n",
      "shape:  (4273, 8)\n",
      "n_clusters:  11\n",
      "Davies-Bouldin index, silhouette_score:  1.2521808730014703 0.28059165896630944\n",
      "Classified_samples, classes:  4273 10\n",
      "\n",
      "data_F_pca_99_lle\n"
     ]
    },
    {
     "data": {
      "application/vnd.jupyter.widget-view+json": {
       "model_id": "88e5f17d8c8f46e98c41356b9feba83b",
       "version_major": 2,
       "version_minor": 0
      },
      "text/plain": [
       "A Jupyter Widget"
      ]
     },
     "metadata": {},
     "output_type": "display_data"
    },
    {
     "name": "stdout",
     "output_type": "stream",
     "text": [
      "shape:  (4273, 8)\n",
      "n_clusters:  3\n",
      "Davies-Bouldin index, silhouette_score:  1.7555734761800714 0.23948854872235015\n",
      "Classified_samples, classes:  4273 2\n",
      "shape:  (4273, 8)\n",
      "n_clusters:  5\n",
      "Davies-Bouldin index, silhouette_score:  1.4259134458703508 0.1456830362295243\n",
      "Classified_samples, classes:  4273 4\n",
      "shape:  (4273, 8)\n",
      "n_clusters:  7\n",
      "Davies-Bouldin index, silhouette_score:  1.1435143624748272 0.2133289506763631\n",
      "Classified_samples, classes:  4273 6\n",
      "shape:  (4273, 8)\n",
      "n_clusters:  9\n",
      "Davies-Bouldin index, silhouette_score:  1.0519859994509204 0.2470741188180309\n",
      "Classified_samples, classes:  4273 8\n",
      "shape:  (4273, 8)\n",
      "n_clusters:  11\n",
      "Davies-Bouldin index, silhouette_score:  1.056595446300786 0.23194604644328778\n",
      "Classified_samples, classes:  4273 10\n",
      "\n",
      "data_G_dropped_samples_pca_99_moified_lle\n"
     ]
    },
    {
     "data": {
      "application/vnd.jupyter.widget-view+json": {
       "model_id": "e4e8500d25bc44d0a84000afc9fe7447",
       "version_major": 2,
       "version_minor": 0
      },
      "text/plain": [
       "A Jupyter Widget"
      ]
     },
     "metadata": {},
     "output_type": "display_data"
    },
    {
     "name": "stdout",
     "output_type": "stream",
     "text": [
      "shape:  (2382, 9)\n",
      "n_clusters:  3\n",
      "Davies-Bouldin index, silhouette_score:  0.17075817732296827 0.9300645577385553\n",
      "Classified_samples, classes:  2382 2\n",
      "shape:  (2382, 9)\n",
      "n_clusters:  5\n",
      "Davies-Bouldin index, silhouette_score:  0.18656713758812782 0.8537904879010986\n",
      "Classified_samples, classes:  2382 4\n",
      "shape:  (2382, 9)\n",
      "n_clusters:  7\n",
      "Davies-Bouldin index, silhouette_score:  0.24638647908310937 0.8667401542075489\n",
      "Classified_samples, classes:  2382 6\n",
      "shape:  (2382, 9)\n",
      "n_clusters:  9\n",
      "Davies-Bouldin index, silhouette_score:  0.34202345461104144 0.8286462864135743\n",
      "Classified_samples, classes:  2382 8\n",
      "shape:  (2382, 9)\n",
      "n_clusters:  11\n",
      "Davies-Bouldin index, silhouette_score:  0.40561434113998546 0.563498401088893\n",
      "Classified_samples, classes:  2382 10\n",
      "\n"
     ]
    }
   ],
   "source": [
    "all_kmeans_indexes = []\n",
    "for dataset, label in zip(datasets, paths):\n",
    "    print(label.split(\"/\")[-1].split(\".\")[0])\n",
    "    indexes = []\n",
    "    for n in tqdm.tqdm_notebook(np.arange(3, 12, 2)):\n",
    "        kmeans = KMeans(int(n))\n",
    "        #dbscan.fit(dataset)\n",
    "        pred = kmeans.fit_predict(dataset)\n",
    "        if max(pred) > 0:\n",
    "            centers = cl_centers(dataset, pred)\n",
    "\n",
    "            ind = DB_index(dataset, centers, pred)\n",
    "            print(\"shape: \", dataset.shape)\n",
    "            print(\"n_clusters: \", n)\n",
    "            print(\"Davies-Bouldin index, silhouette_score: \", ind, silhouette_score(dataset, pred))\n",
    "            print(\"Classified_samples, classes: \", (pred != -1).sum(), max(pred))\n",
    "            indexes.append(ind)\n",
    "        else:\n",
    "            indexes.append(-1)\n",
    "    \n",
    "    all_kmeans_indexes.append(indexes)"
   ]
  },
  {
   "cell_type": "code",
   "execution_count": null,
   "metadata": {},
   "outputs": [],
   "source": []
  },
  {
   "cell_type": "code",
   "execution_count": 29,
   "metadata": {},
   "outputs": [],
   "source": [
    "from sklearn.metrics import euclidean_distances"
   ]
  },
  {
   "cell_type": "code",
   "execution_count": 31,
   "metadata": {},
   "outputs": [],
   "source": [
    "m =euclidean_distances(d)"
   ]
  },
  {
   "cell_type": "code",
   "execution_count": 32,
   "metadata": {},
   "outputs": [
    {
     "data": {
      "text/plain": [
       "array([[0.        , 0.21913532, 0.19333949, ..., 0.12400046, 0.12721618,\n",
       "        0.12447513],\n",
       "       [0.21913532, 0.        , 0.20378903, ..., 0.17438874, 0.15984958,\n",
       "        0.17163713],\n",
       "       [0.19333949, 0.20378903, 0.        , ..., 0.10612997, 0.10450393,\n",
       "        0.10612492],\n",
       "       ...,\n",
       "       [0.12400046, 0.17438874, 0.10612997, ..., 0.        , 0.01530962,\n",
       "        0.00900815],\n",
       "       [0.12721618, 0.15984958, 0.10450393, ..., 0.01530962, 0.        ,\n",
       "        0.0146113 ],\n",
       "       [0.12447513, 0.17163713, 0.10612492, ..., 0.00900815, 0.0146113 ,\n",
       "        0.        ]])"
      ]
     },
     "execution_count": 32,
     "metadata": {},
     "output_type": "execute_result"
    }
   ],
   "source": [
    "plt.imshow()"
   ]
  },
  {
   "cell_type": "code",
   "execution_count": null,
   "metadata": {},
   "outputs": [],
   "source": []
  },
  {
   "cell_type": "code",
   "execution_count": null,
   "metadata": {},
   "outputs": [],
   "source": [
    "DBSCAN()"
   ]
  },
  {
   "cell_type": "code",
   "execution_count": 8,
   "metadata": {
    "collapsed": true
   },
   "outputs": [
    {
     "name": "stdout",
     "output_type": "stream",
     "text": [
      "data_G\n"
     ]
    },
    {
     "data": {
      "application/vnd.jupyter.widget-view+json": {
       "model_id": "79570cc4bfdf4b7f8e9e9388817c6b48",
       "version_major": 2,
       "version_minor": 0
      },
      "text/plain": [
       "A Jupyter Widget"
      ]
     },
     "metadata": {},
     "output_type": "display_data"
    },
    {
     "name": "stdout",
     "output_type": "stream",
     "text": [
      "shape:  (14088, 576)\n",
      "dbscan eps:  0.01\n",
      "Davies-Bouldin index, silhouette_score:  0.007837463436494224 0.2388370539250808\n",
      "Classified_samples, classes:  78 5\n",
      "shape:  (14088, 576)\n",
      "dbscan eps:  0.03111111111111111\n",
      "Davies-Bouldin index, silhouette_score:  0.03611876407140753 0.13629311617087564\n",
      "Classified_samples, classes:  228 12\n",
      "shape:  (14088, 576)\n",
      "dbscan eps:  0.052222222222222225\n",
      "Davies-Bouldin index, silhouette_score:  0.08472070667906421 0.05422039637261241\n",
      "Classified_samples, classes:  439 20\n",
      "shape:  (14088, 576)\n",
      "dbscan eps:  0.07333333333333333\n",
      "Davies-Bouldin index, silhouette_score:  0.30044525932378274 -0.12468213116815806\n",
      "Classified_samples, classes:  883 35\n",
      "shape:  (14088, 576)\n",
      "dbscan eps:  0.09444444444444444\n",
      "Davies-Bouldin index, silhouette_score:  0.4893630783076239 -0.16744962943001968\n",
      "Classified_samples, classes:  1530 46\n",
      "shape:  (14088, 576)\n",
      "dbscan eps:  0.11555555555555555\n",
      "Davies-Bouldin index, silhouette_score:  0.9634052509175983 -0.24927551289203537\n",
      "Classified_samples, classes:  2489 58\n",
      "shape:  (14088, 576)\n",
      "dbscan eps:  0.1366666666666667\n",
      "Davies-Bouldin index, silhouette_score:  1.0368954396082555 -0.26449577311409733\n",
      "Classified_samples, classes:  3731 70\n",
      "shape:  (14088, 576)\n",
      "dbscan eps:  0.1577777777777778\n",
      "Davies-Bouldin index, silhouette_score:  1.1691830363988251 -0.29531147962541326\n",
      "Classified_samples, classes:  5335 80\n",
      "shape:  (14088, 576)\n",
      "dbscan eps:  0.1788888888888889\n",
      "Davies-Bouldin index, silhouette_score:  1.2693965475945888 -0.2972443535671837\n",
      "Classified_samples, classes:  7158 70\n",
      "shape:  (14088, 576)\n",
      "dbscan eps:  0.2\n",
      "Davies-Bouldin index, silhouette_score:  1.2186507333316903 -0.23918209261578588\n",
      "Classified_samples, classes:  8982 59\n",
      "\n",
      "data_G_dropped_samples\n"
     ]
    },
    {
     "data": {
      "application/vnd.jupyter.widget-view+json": {
       "model_id": "6765ff2feaab4ec88c0e82975fdc90bf",
       "version_major": 2,
       "version_minor": 0
      },
      "text/plain": [
       "A Jupyter Widget"
      ]
     },
     "metadata": {},
     "output_type": "display_data"
    },
    {
     "name": "stdout",
     "output_type": "stream",
     "text": [
      "shape:  (8056, 522)\n",
      "dbscan eps:  0.01\n",
      "Davies-Bouldin index, silhouette_score:  0.008329972547637293 0.26249268310779633\n",
      "Classified_samples, classes:  56 4\n",
      "shape:  (8056, 522)\n",
      "dbscan eps:  0.03111111111111111\n",
      "Davies-Bouldin index, silhouette_score:  0.21478459001269593 0.10916700716810741\n",
      "Classified_samples, classes:  157 13\n",
      "shape:  (8056, 522)\n",
      "dbscan eps:  0.052222222222222225\n",
      "Davies-Bouldin index, silhouette_score:  0.085570568109574 0.053068750884886974\n",
      "Classified_samples, classes:  291 16\n",
      "shape:  (8056, 522)\n",
      "dbscan eps:  0.07333333333333333\n",
      "Davies-Bouldin index, silhouette_score:  0.31713216274842443 -0.084356752358972\n",
      "Classified_samples, classes:  511 25\n",
      "shape:  (8056, 522)\n",
      "dbscan eps:  0.09444444444444444\n",
      "Davies-Bouldin index, silhouette_score:  0.3733457188125694 -0.09976970225203625\n",
      "Classified_samples, classes:  827 31\n",
      "shape:  (8056, 522)\n",
      "dbscan eps:  0.11555555555555555\n",
      "Davies-Bouldin index, silhouette_score:  0.5215805067040097 -0.13291722809647719\n",
      "Classified_samples, classes:  1233 40\n",
      "shape:  (8056, 522)\n",
      "dbscan eps:  0.1366666666666667\n",
      "Davies-Bouldin index, silhouette_score:  0.7705444746305115 -0.1832560201250526\n",
      "Classified_samples, classes:  1792 47\n",
      "shape:  (8056, 522)\n",
      "dbscan eps:  0.1577777777777778\n",
      "Davies-Bouldin index, silhouette_score:  1.0234478254744532 -0.2146382048533969\n",
      "Classified_samples, classes:  2503 58\n",
      "shape:  (8056, 522)\n",
      "dbscan eps:  0.1788888888888889\n",
      "Davies-Bouldin index, silhouette_score:  1.2255529748942449 -0.24508014657438998\n",
      "Classified_samples, classes:  3483 56\n",
      "shape:  (8056, 522)\n",
      "dbscan eps:  0.2\n",
      "Davies-Bouldin index, silhouette_score:  1.1713650129772284 -0.20501552969214137\n",
      "Classified_samples, classes:  4570 45\n",
      "\n",
      "data_G_pca_99\n"
     ]
    },
    {
     "data": {
      "application/vnd.jupyter.widget-view+json": {
       "model_id": "673a76c23e0744dcaf2a9cfaf6a129b4",
       "version_major": 2,
       "version_minor": 0
      },
      "text/plain": [
       "A Jupyter Widget"
      ]
     },
     "metadata": {},
     "output_type": "display_data"
    },
    {
     "name": "stdout",
     "output_type": "stream",
     "text": [
      "shape:  (14088, 117)\n",
      "dbscan eps:  0.01\n",
      "Davies-Bouldin index, silhouette_score:  0.007824166338605283 0.2419758436444546\n",
      "Classified_samples, classes:  78 5\n",
      "shape:  (14088, 117)\n",
      "dbscan eps:  0.03111111111111111\n",
      "Davies-Bouldin index, silhouette_score:  0.03690877060743335 0.1389251467023133\n",
      "Classified_samples, classes:  232 12\n",
      "shape:  (14088, 117)\n",
      "dbscan eps:  0.052222222222222225\n",
      "Davies-Bouldin index, silhouette_score:  0.18885984977961295 0.01010814302934893\n",
      "Classified_samples, classes:  458 22\n",
      "shape:  (14088, 117)\n",
      "dbscan eps:  0.07333333333333333\n",
      "Davies-Bouldin index, silhouette_score:  0.34201334330355787 -0.13353295783257085\n",
      "Classified_samples, classes:  933 39\n",
      "shape:  (14088, 117)\n",
      "dbscan eps:  0.09444444444444444\n",
      "Davies-Bouldin index, silhouette_score:  0.5011606919559272 -0.15752472224296116\n",
      "Classified_samples, classes:  1595 47\n",
      "shape:  (14088, 117)\n",
      "dbscan eps:  0.11555555555555555\n",
      "Davies-Bouldin index, silhouette_score:  0.9794042066658568 -0.33739016876830513\n",
      "Classified_samples, classes:  2649 64\n",
      "shape:  (14088, 117)\n",
      "dbscan eps:  0.1366666666666667\n",
      "Davies-Bouldin index, silhouette_score:  1.071841385467586 -0.3169650032673736\n",
      "Classified_samples, classes:  3975 70\n",
      "shape:  (14088, 117)\n",
      "dbscan eps:  0.1577777777777778\n",
      "Davies-Bouldin index, silhouette_score:  1.2156348920221436 -0.32429532887484214\n",
      "Classified_samples, classes:  5671 87\n",
      "shape:  (14088, 117)\n",
      "dbscan eps:  0.1788888888888889\n",
      "Davies-Bouldin index, silhouette_score:  1.2881703384601217 -0.29231392121490485\n",
      "Classified_samples, classes:  7663 76\n",
      "shape:  (14088, 117)\n",
      "dbscan eps:  0.2\n",
      "Davies-Bouldin index, silhouette_score:  1.163439854406832 -0.23242394253771975\n",
      "Classified_samples, classes:  9624 56\n",
      "\n",
      "data_G_dropped_samples_pca_99\n"
     ]
    },
    {
     "data": {
      "application/vnd.jupyter.widget-view+json": {
       "model_id": "7d9f89e54fa443b98bd78c071ab4a750",
       "version_major": 2,
       "version_minor": 0
      },
      "text/plain": [
       "A Jupyter Widget"
      ]
     },
     "metadata": {},
     "output_type": "display_data"
    },
    {
     "name": "stdout",
     "output_type": "stream",
     "text": [
      "shape:  (8056, 117)\n",
      "dbscan eps:  0.01\n",
      "Davies-Bouldin index, silhouette_score:  0.008319581679358225 0.26580340910775696\n",
      "Classified_samples, classes:  56 4\n",
      "shape:  (8056, 117)\n",
      "dbscan eps:  0.03111111111111111\n",
      "Davies-Bouldin index, silhouette_score:  0.21521218376239099 0.11212984697688662\n",
      "Classified_samples, classes:  161 13\n",
      "shape:  (8056, 117)\n",
      "dbscan eps:  0.052222222222222225\n",
      "Davies-Bouldin index, silhouette_score:  0.08704582717001819 0.05777019681050405\n",
      "Classified_samples, classes:  303 16\n",
      "shape:  (8056, 117)\n",
      "dbscan eps:  0.07333333333333333\n",
      "Davies-Bouldin index, silhouette_score:  0.3879633482086096 -0.09663697572369041\n",
      "Classified_samples, classes:  547 27\n",
      "shape:  (8056, 117)\n",
      "dbscan eps:  0.09444444444444444\n",
      "Davies-Bouldin index, silhouette_score:  0.40339999598969234 -0.10139390234850873\n",
      "Classified_samples, classes:  856 32\n",
      "shape:  (8056, 117)\n",
      "dbscan eps:  0.11555555555555555\n",
      "Davies-Bouldin index, silhouette_score:  0.5259158185475766 -0.13651280536519828\n",
      "Classified_samples, classes:  1316 43\n",
      "shape:  (8056, 117)\n",
      "dbscan eps:  0.1366666666666667\n",
      "Davies-Bouldin index, silhouette_score:  0.889426660571701 -0.1949354084650429\n",
      "Classified_samples, classes:  1906 47\n",
      "shape:  (8056, 117)\n",
      "dbscan eps:  0.1577777777777778\n",
      "Davies-Bouldin index, silhouette_score:  1.0925852637037696 -0.26569181986187596\n",
      "Classified_samples, classes:  2677 65\n",
      "shape:  (8056, 117)\n",
      "dbscan eps:  0.1788888888888889\n",
      "Davies-Bouldin index, silhouette_score:  1.2861684330541931 -0.2760676780731523\n",
      "Classified_samples, classes:  3745 60\n",
      "shape:  (8056, 117)\n",
      "dbscan eps:  0.2\n",
      "Davies-Bouldin index, silhouette_score:  1.186230260719953 -0.2085556605879745\n",
      "Classified_samples, classes:  4953 49\n",
      "\n",
      "data_F\n"
     ]
    },
    {
     "data": {
      "application/vnd.jupyter.widget-view+json": {
       "model_id": "52ecbf4bb8d8491e8b0d88beeee4acb2",
       "version_major": 2,
       "version_minor": 0
      },
      "text/plain": [
       "A Jupyter Widget"
      ]
     },
     "metadata": {},
     "output_type": "display_data"
    },
    {
     "name": "stdout",
     "output_type": "stream",
     "text": [
      "shape:  (14098, 266)\n",
      "dbscan eps:  0.01\n",
      "Davies-Bouldin index, silhouette_score:  0.008586069619751583 0.08573274036485333\n",
      "Classified_samples, classes:  97 6\n",
      "shape:  (14098, 266)\n",
      "dbscan eps:  0.03111111111111111\n",
      "Davies-Bouldin index, silhouette_score:  0.1728181595079223 0.005775928196794761\n",
      "Classified_samples, classes:  363 14\n",
      "shape:  (14098, 266)\n",
      "dbscan eps:  0.052222222222222225\n",
      "Davies-Bouldin index, silhouette_score:  0.30012789825891983 -0.13789302603392933\n",
      "Classified_samples, classes:  834 29\n",
      "shape:  (14098, 266)\n",
      "dbscan eps:  0.07333333333333333\n",
      "Davies-Bouldin index, silhouette_score:  0.4005254199531996 -0.19136682003555347\n",
      "Classified_samples, classes:  1438 44\n",
      "shape:  (14098, 266)\n",
      "dbscan eps:  0.09444444444444444\n",
      "Davies-Bouldin index, silhouette_score:  0.4953612473486576 -0.19199645752976652\n",
      "Classified_samples, classes:  2193 55\n",
      "shape:  (14098, 266)\n",
      "dbscan eps:  0.11555555555555555\n",
      "Davies-Bouldin index, silhouette_score:  0.925809519561076 -0.28397446801138987\n",
      "Classified_samples, classes:  3168 74\n",
      "shape:  (14098, 266)\n",
      "dbscan eps:  0.1366666666666667\n",
      "Davies-Bouldin index, silhouette_score:  1.0560838962194794 -0.26961181705844484\n",
      "Classified_samples, classes:  4586 85\n",
      "shape:  (14098, 266)\n",
      "dbscan eps:  0.1577777777777778\n",
      "Davies-Bouldin index, silhouette_score:  1.2380000148624506 -0.30877185360012044\n",
      "Classified_samples, classes:  6304 83\n",
      "shape:  (14098, 266)\n",
      "dbscan eps:  0.1788888888888889\n",
      "Davies-Bouldin index, silhouette_score:  1.2575929248196747 -0.32281713250257016\n",
      "Classified_samples, classes:  8237 66\n",
      "shape:  (14098, 266)\n",
      "dbscan eps:  0.2\n",
      "Davies-Bouldin index, silhouette_score:  1.3469640690366596 -0.2850903263098512\n",
      "Classified_samples, classes:  9938 58\n",
      "\n",
      "data_F_pca_99\n"
     ]
    },
    {
     "data": {
      "application/vnd.jupyter.widget-view+json": {
       "model_id": "053022936ba141bd9d762df17a41b81c",
       "version_major": 2,
       "version_minor": 0
      },
      "text/plain": [
       "A Jupyter Widget"
      ]
     },
     "metadata": {},
     "output_type": "display_data"
    },
    {
     "name": "stdout",
     "output_type": "stream",
     "text": [
      "shape:  (14098, 62)\n",
      "dbscan eps:  0.01\n",
      "Davies-Bouldin index, silhouette_score:  0.008487612838692793 0.0889361136774298\n",
      "Classified_samples, classes:  97 6\n",
      "shape:  (14098, 62)\n",
      "dbscan eps:  0.03111111111111111\n",
      "Davies-Bouldin index, silhouette_score:  0.15310775722858802 0.011792815166565903\n",
      "Classified_samples, classes:  384 14\n",
      "shape:  (14098, 62)\n",
      "dbscan eps:  0.052222222222222225\n",
      "Davies-Bouldin index, silhouette_score:  0.30090013996855064 -0.1325610818547795\n",
      "Classified_samples, classes:  862 29\n",
      "shape:  (14098, 62)\n",
      "dbscan eps:  0.07333333333333333\n",
      "Davies-Bouldin index, silhouette_score:  0.386753067764465 -0.19078448849779076\n",
      "Classified_samples, classes:  1478 45\n",
      "shape:  (14098, 62)\n",
      "dbscan eps:  0.09444444444444444\n",
      "Davies-Bouldin index, silhouette_score:  0.47112523586039984 -0.2983273074683217\n",
      "Classified_samples, classes:  2272 58\n",
      "shape:  (14098, 62)\n",
      "dbscan eps:  0.11555555555555555\n",
      "Davies-Bouldin index, silhouette_score:  0.9439529723751405 -0.33069313765574515\n",
      "Classified_samples, classes:  3332 83\n",
      "shape:  (14098, 62)\n",
      "dbscan eps:  0.1366666666666667\n",
      "Davies-Bouldin index, silhouette_score:  1.027919840425996 -0.2973573063382847\n",
      "Classified_samples, classes:  4851 90\n",
      "shape:  (14098, 62)\n",
      "dbscan eps:  0.1577777777777778\n",
      "Davies-Bouldin index, silhouette_score:  1.2703663670244068 -0.30252064616156316\n",
      "Classified_samples, classes:  6692 85\n",
      "shape:  (14098, 62)\n",
      "dbscan eps:  0.1788888888888889\n",
      "Davies-Bouldin index, silhouette_score:  1.166904143749353 -0.3067629222092355\n",
      "Classified_samples, classes:  8716 63\n",
      "shape:  (14098, 62)\n",
      "dbscan eps:  0.2\n",
      "Davies-Bouldin index, silhouette_score:  1.331430968308922 -0.30260284906693136\n",
      "Classified_samples, classes:  10552 61\n",
      "\n",
      "data_O\n"
     ]
    },
    {
     "data": {
      "application/vnd.jupyter.widget-view+json": {
       "model_id": "a040d176c83a46f2906a7c4711cf7fdf",
       "version_major": 2,
       "version_minor": 0
      },
      "text/plain": [
       "A Jupyter Widget"
      ]
     },
     "metadata": {},
     "output_type": "display_data"
    },
    {
     "name": "stdout",
     "output_type": "stream",
     "text": [
      "shape:  (14098, 178)\n",
      "dbscan eps:  0.01\n",
      "Davies-Bouldin index, silhouette_score:  0.17364858822309728 -0.21665848875928223\n",
      "Classified_samples, classes:  273 11\n",
      "shape:  (14098, 178)\n",
      "dbscan eps:  0.03111111111111111\n",
      "Davies-Bouldin index, silhouette_score:  0.2343312942302812 -0.20161625862774973\n",
      "Classified_samples, classes:  997 21\n",
      "shape:  (14098, 178)\n",
      "dbscan eps:  0.052222222222222225\n",
      "Davies-Bouldin index, silhouette_score:  0.3409392118689678 -0.2345978318780859\n",
      "Classified_samples, classes:  1797 37\n",
      "shape:  (14098, 178)\n",
      "dbscan eps:  0.07333333333333333\n",
      "Davies-Bouldin index, silhouette_score:  0.500688125104844 -0.21423743456064298\n",
      "Classified_samples, classes:  2832 45\n",
      "shape:  (14098, 178)\n",
      "dbscan eps:  0.09444444444444444\n",
      "Davies-Bouldin index, silhouette_score:  0.6251709574808978 -0.2043504197349298\n",
      "Classified_samples, classes:  3903 58\n",
      "shape:  (14098, 178)\n",
      "dbscan eps:  0.11555555555555555\n",
      "Davies-Bouldin index, silhouette_score:  0.9776045944981246 -0.32372442325457\n",
      "Classified_samples, classes:  5230 73\n",
      "shape:  (14098, 178)\n",
      "dbscan eps:  0.1366666666666667\n",
      "Davies-Bouldin index, silhouette_score:  1.1650084490632737 -0.2946453512413365\n",
      "Classified_samples, classes:  6732 67\n",
      "shape:  (14098, 178)\n",
      "dbscan eps:  0.1577777777777778\n",
      "Davies-Bouldin index, silhouette_score:  1.4457957568340822 -0.41148065383995525\n",
      "Classified_samples, classes:  8406 62\n",
      "shape:  (14098, 178)\n",
      "dbscan eps:  0.1788888888888889\n",
      "Davies-Bouldin index, silhouette_score:  1.4145107849643972 -0.3460695396938778\n",
      "Classified_samples, classes:  9904 51\n",
      "shape:  (14098, 178)\n",
      "dbscan eps:  0.2\n",
      "Davies-Bouldin index, silhouette_score:  1.4775048058018354 -0.32074244318291445\n",
      "Classified_samples, classes:  11411 32\n",
      "\n",
      "data_O_pca_99\n"
     ]
    },
    {
     "data": {
      "application/vnd.jupyter.widget-view+json": {
       "model_id": "18d9dd6678dc4709b34d5a8e2697d6a3",
       "version_major": 2,
       "version_minor": 0
      },
      "text/plain": [
       "A Jupyter Widget"
      ]
     },
     "metadata": {},
     "output_type": "display_data"
    },
    {
     "name": "stdout",
     "output_type": "stream",
     "text": [
      "shape:  (14098, 33)\n",
      "dbscan eps:  0.01\n",
      "Davies-Bouldin index, silhouette_score:  0.174537950725023 -0.2140529207151259\n",
      "Classified_samples, classes:  276 11\n",
      "shape:  (14098, 33)\n",
      "dbscan eps:  0.03111111111111111\n",
      "Davies-Bouldin index, silhouette_score:  0.24398450255259482 -0.19644288518611572\n",
      "Classified_samples, classes:  1025 21\n",
      "shape:  (14098, 33)\n",
      "dbscan eps:  0.052222222222222225\n",
      "Davies-Bouldin index, silhouette_score:  0.35554618263723214 -0.22978358242783228\n",
      "Classified_samples, classes:  1834 37\n",
      "shape:  (14098, 33)\n",
      "dbscan eps:  0.07333333333333333\n",
      "Davies-Bouldin index, silhouette_score:  0.5195913493182104 -0.21430082225358688\n",
      "Classified_samples, classes:  2905 49\n",
      "shape:  (14098, 33)\n",
      "dbscan eps:  0.09444444444444444\n",
      "Davies-Bouldin index, silhouette_score:  0.6478237608145968 -0.21083397073740556\n",
      "Classified_samples, classes:  4030 60\n",
      "shape:  (14098, 33)\n",
      "dbscan eps:  0.11555555555555555\n",
      "Davies-Bouldin index, silhouette_score:  0.9819200534122179 -0.33757782347268644\n",
      "Classified_samples, classes:  5419 74\n",
      "shape:  (14098, 33)\n",
      "dbscan eps:  0.1366666666666667\n",
      "Davies-Bouldin index, silhouette_score:  1.2137964348923622 -0.3388785111615483\n",
      "Classified_samples, classes:  6979 73\n",
      "shape:  (14098, 33)\n",
      "dbscan eps:  0.1577777777777778\n",
      "Davies-Bouldin index, silhouette_score:  1.5251124668243483 -0.4242248450015535\n",
      "Classified_samples, classes:  8824 73\n",
      "shape:  (14098, 33)\n",
      "dbscan eps:  0.1788888888888889\n",
      "Davies-Bouldin index, silhouette_score:  1.4645279390591943 -0.37546551832318836\n",
      "Classified_samples, classes:  10468 48\n",
      "shape:  (14098, 33)\n",
      "dbscan eps:  0.2\n",
      "Davies-Bouldin index, silhouette_score:  1.464242734244951 -0.29825347899946797\n",
      "Classified_samples, classes:  12037 27\n",
      "\n"
     ]
    }
   ],
   "source": [
    "all_dbscan_indexes = []\n",
    "for dataset, label in zip(datasets, paths):\n",
    "    print(label.split(\"/\")[-1].split(\".\")[0])\n",
    "    indexes = []\n",
    "    for eps in tqdm.tqdm_notebook(np.linspace(0.01, 0.2, 10)):\n",
    "        dbscan = DBSCAN(eps)\n",
    "        #dbscan.fit(dataset)\n",
    "        pred = dbscan.fit_predict(dataset)\n",
    "        if max(pred) > 0:\n",
    "            centers = cl_centers(dataset, pred)\n",
    "\n",
    "            ind = DB_index(dataset, centers, pred)\n",
    "            print(\"shape: \", dataset.shape)\n",
    "            print(\"dbscan eps: \", eps)\n",
    "            print(\"Davies-Bouldin index, silhouette_score: \", ind, silhouette_score(dataset, pred))\n",
    "            print(\"Classified_samples, classes: \", (pred != -1).sum(), max(pred))\n",
    "            indexes.append(ind)\n",
    "        else:\n",
    "            indexes.append(-1)\n",
    "    \n",
    "    all_dbscan_indexes.append(indexes)"
   ]
  },
  {
   "cell_type": "code",
   "execution_count": 21,
   "metadata": {},
   "outputs": [],
   "source": [
    "def sample_data(data, fraction):\n",
    "    mask = np.random.binomial(1, fraction, data.shape[0]).astype(bool)\n",
    "    return data[mask]"
   ]
  },
  {
   "cell_type": "code",
   "execution_count": 22,
   "metadata": {
    "scrolled": true
   },
   "outputs": [
    {
     "data": {
      "text/plain": [
       "array([0, 0, 0, 1, 0, 0, 0, 0, 0, 0])"
      ]
     },
     "execution_count": 22,
     "metadata": {},
     "output_type": "execute_result"
    }
   ],
   "source": [
    "np.random.binomial(1, 0.1, 10)"
   ]
  },
  {
   "cell_type": "code",
   "execution_count": 23,
   "metadata": {},
   "outputs": [],
   "source": [
    "d = np.load(paths[0])"
   ]
  },
  {
   "cell_type": "code",
   "execution_count": 24,
   "metadata": {},
   "outputs": [
    {
     "data": {
      "text/plain": [
       "(14088, 576)"
      ]
     },
     "execution_count": 24,
     "metadata": {},
     "output_type": "execute_result"
    }
   ],
   "source": [
    "d.shape"
   ]
  },
  {
   "cell_type": "code",
   "execution_count": null,
   "metadata": {},
   "outputs": [],
   "source": []
  },
  {
   "cell_type": "code",
   "execution_count": 29,
   "metadata": {},
   "outputs": [
    {
     "name": "stdout",
     "output_type": "stream",
     "text": [
      "data_G\n"
     ]
    },
    {
     "data": {
      "application/vnd.jupyter.widget-view+json": {
       "model_id": "d072b471c48e4a948ffc89a149368cd5",
       "version_major": 2,
       "version_minor": 0
      },
      "text/plain": [
       "A Jupyter Widget"
      ]
     },
     "metadata": {},
     "output_type": "display_data"
    },
    {
     "name": "stdout",
     "output_type": "stream",
     "text": [
      "shape:  (4267, 576)\n",
      "n_clusters:  3\n",
      "Davies-Bouldin index, silhouette_score:  1.6182907237189115 0.11396337236545008\n",
      "Classified_samples, classes:  4267 2\n",
      "shape:  (4267, 576)\n",
      "n_clusters:  5\n",
      "Davies-Bouldin index, silhouette_score:  1.6487955446773754 0.12953451948859368\n",
      "Classified_samples, classes:  4267 4\n",
      "shape:  (4267, 576)\n",
      "n_clusters:  7\n",
      "Davies-Bouldin index, silhouette_score:  2.0080567313743676 0.15093737081031328\n",
      "Classified_samples, classes:  4267 6\n",
      "shape:  (4267, 576)\n",
      "n_clusters:  9\n",
      "Davies-Bouldin index, silhouette_score:  1.8519906102545898 0.14560030818349795\n",
      "Classified_samples, classes:  4267 8\n",
      "shape:  (4267, 576)\n",
      "n_clusters:  11\n",
      "Davies-Bouldin index, silhouette_score:  1.7887887736308061 0.1628677048270424\n",
      "Classified_samples, classes:  4267 10\n",
      "\n",
      "data_G_dropped_samples\n"
     ]
    },
    {
     "data": {
      "application/vnd.jupyter.widget-view+json": {
       "model_id": "ffabf1a597a941e2809bcb2fbd839c08",
       "version_major": 2,
       "version_minor": 0
      },
      "text/plain": [
       "A Jupyter Widget"
      ]
     },
     "metadata": {},
     "output_type": "display_data"
    },
    {
     "name": "stdout",
     "output_type": "stream",
     "text": [
      "shape:  (2438, 522)\n",
      "n_clusters:  3\n",
      "Davies-Bouldin index, silhouette_score:  1.4558670846606219 0.1390841307210622\n",
      "Classified_samples, classes:  2438 2\n",
      "shape:  (2438, 522)\n",
      "n_clusters:  5\n",
      "Davies-Bouldin index, silhouette_score:  1.614105646771754 0.14386017384219604\n",
      "Classified_samples, classes:  2438 4\n",
      "shape:  (2438, 522)\n",
      "n_clusters:  7\n",
      "Davies-Bouldin index, silhouette_score:  1.598780035887428 0.16928511666906432\n",
      "Classified_samples, classes:  2438 6\n",
      "shape:  (2438, 522)\n",
      "n_clusters:  9\n",
      "Davies-Bouldin index, silhouette_score:  1.632685936123036 0.17803474192385427\n",
      "Classified_samples, classes:  2438 8\n",
      "shape:  (2438, 522)\n",
      "n_clusters:  11\n",
      "Davies-Bouldin index, silhouette_score:  1.6299426735820846 0.18277587009155044\n",
      "Classified_samples, classes:  2438 10\n",
      "\n",
      "data_G_pca_99\n"
     ]
    },
    {
     "data": {
      "application/vnd.jupyter.widget-view+json": {
       "model_id": "119c7445b7044fde9b82a1b3f09bd71d",
       "version_major": 2,
       "version_minor": 0
      },
      "text/plain": [
       "A Jupyter Widget"
      ]
     },
     "metadata": {},
     "output_type": "display_data"
    },
    {
     "name": "stdout",
     "output_type": "stream",
     "text": [
      "shape:  (4150, 117)\n",
      "n_clusters:  3\n",
      "Davies-Bouldin index, silhouette_score:  1.5423356388129201 0.11911807730701306\n",
      "Classified_samples, classes:  4150 2\n",
      "shape:  (4150, 117)\n",
      "n_clusters:  5\n",
      "Davies-Bouldin index, silhouette_score:  1.5998569963848681 0.13325160997712093\n",
      "Classified_samples, classes:  4150 4\n",
      "shape:  (4150, 117)\n",
      "n_clusters:  7\n",
      "Davies-Bouldin index, silhouette_score:  1.9133311525012269 0.12923760193915038\n",
      "Classified_samples, classes:  4150 6\n",
      "shape:  (4150, 117)\n",
      "n_clusters:  9\n",
      "Davies-Bouldin index, silhouette_score:  1.6940307707345732 0.15950250102708022\n",
      "Classified_samples, classes:  4150 8\n",
      "shape:  (4150, 117)\n",
      "n_clusters:  11\n",
      "Davies-Bouldin index, silhouette_score:  1.6792001917177748 0.17497937447488426\n",
      "Classified_samples, classes:  4150 10\n",
      "\n",
      "data_G_dropped_samples_pca_99\n"
     ]
    },
    {
     "data": {
      "application/vnd.jupyter.widget-view+json": {
       "model_id": "3b21d73ae5434c739c8b0a490127cb22",
       "version_major": 2,
       "version_minor": 0
      },
      "text/plain": [
       "A Jupyter Widget"
      ]
     },
     "metadata": {},
     "output_type": "display_data"
    },
    {
     "name": "stdout",
     "output_type": "stream",
     "text": [
      "shape:  (2354, 117)\n",
      "n_clusters:  3\n",
      "Davies-Bouldin index, silhouette_score:  1.572188289750816 0.11399142516998952\n",
      "Classified_samples, classes:  2354 2\n",
      "shape:  (2354, 117)\n",
      "n_clusters:  5\n",
      "Davies-Bouldin index, silhouette_score:  1.6423916558258498 0.12605897407497504\n",
      "Classified_samples, classes:  2354 4\n",
      "shape:  (2354, 117)\n",
      "n_clusters:  7\n",
      "Davies-Bouldin index, silhouette_score:  1.583074844424803 0.15503177078337124\n",
      "Classified_samples, classes:  2354 6\n",
      "shape:  (2354, 117)\n",
      "n_clusters:  9\n",
      "Davies-Bouldin index, silhouette_score:  1.624861680528269 0.17088234770601288\n",
      "Classified_samples, classes:  2354 8\n",
      "shape:  (2354, 117)\n",
      "n_clusters:  11\n",
      "Davies-Bouldin index, silhouette_score:  1.657204424420044 0.171560307444216\n",
      "Classified_samples, classes:  2354 10\n",
      "\n",
      "data_F\n"
     ]
    },
    {
     "data": {
      "application/vnd.jupyter.widget-view+json": {
       "model_id": "6534d85496b2477986108b98a5295f89",
       "version_major": 2,
       "version_minor": 0
      },
      "text/plain": [
       "A Jupyter Widget"
      ]
     },
     "metadata": {},
     "output_type": "display_data"
    },
    {
     "name": "stdout",
     "output_type": "stream",
     "text": [
      "shape:  (4200, 266)\n",
      "n_clusters:  3\n",
      "Davies-Bouldin index, silhouette_score:  1.4502850648299643 0.140181494591637\n",
      "Classified_samples, classes:  4200 2\n",
      "shape:  (4200, 266)\n",
      "n_clusters:  5\n",
      "Davies-Bouldin index, silhouette_score:  1.3705737628155452 0.18027647286867662\n",
      "Classified_samples, classes:  4200 4\n",
      "shape:  (4200, 266)\n",
      "n_clusters:  7\n",
      "Davies-Bouldin index, silhouette_score:  1.5727598091581931 0.16822009590210768\n",
      "Classified_samples, classes:  4200 6\n",
      "shape:  (4200, 266)\n",
      "n_clusters:  9\n",
      "Davies-Bouldin index, silhouette_score:  1.6495551766685541 0.18319473260237634\n",
      "Classified_samples, classes:  4200 8\n",
      "shape:  (4200, 266)\n",
      "n_clusters:  11\n",
      "Davies-Bouldin index, silhouette_score:  1.5595736779294938 0.2042126270360189\n",
      "Classified_samples, classes:  4200 10\n",
      "\n",
      "data_F_pca_99\n"
     ]
    },
    {
     "data": {
      "application/vnd.jupyter.widget-view+json": {
       "model_id": "8380e2975f9046d3b8c53de4e9ad32ea",
       "version_major": 2,
       "version_minor": 0
      },
      "text/plain": [
       "A Jupyter Widget"
      ]
     },
     "metadata": {},
     "output_type": "display_data"
    },
    {
     "name": "stdout",
     "output_type": "stream",
     "text": [
      "shape:  (4269, 62)\n",
      "n_clusters:  3\n",
      "Davies-Bouldin index, silhouette_score:  1.4161024467954755 0.14539996663861524\n",
      "Classified_samples, classes:  4269 2\n",
      "shape:  (4269, 62)\n",
      "n_clusters:  5\n",
      "Davies-Bouldin index, silhouette_score:  1.3234284054523255 0.18660688587625088\n",
      "Classified_samples, classes:  4269 4\n",
      "shape:  (4269, 62)\n",
      "n_clusters:  7\n",
      "Davies-Bouldin index, silhouette_score:  1.5838862346173648 0.1649630828285581\n",
      "Classified_samples, classes:  4269 6\n",
      "shape:  (4269, 62)\n",
      "n_clusters:  9\n",
      "Davies-Bouldin index, silhouette_score:  1.6537791611189654 0.18742697119973176\n",
      "Classified_samples, classes:  4269 8\n",
      "shape:  (4269, 62)\n",
      "n_clusters:  11\n",
      "Davies-Bouldin index, silhouette_score:  1.9364011751000376 0.19950282645582013\n",
      "Classified_samples, classes:  4269 10\n",
      "\n",
      "data_O\n"
     ]
    },
    {
     "data": {
      "application/vnd.jupyter.widget-view+json": {
       "model_id": "6d6bbdadaf034390a6a80450d863e851",
       "version_major": 2,
       "version_minor": 0
      },
      "text/plain": [
       "A Jupyter Widget"
      ]
     },
     "metadata": {},
     "output_type": "display_data"
    },
    {
     "name": "stdout",
     "output_type": "stream",
     "text": [
      "shape:  (4190, 178)\n",
      "n_clusters:  3\n",
      "Davies-Bouldin index, silhouette_score:  1.4717128718464292 0.16164811231171897\n",
      "Classified_samples, classes:  4190 2\n",
      "shape:  (4190, 178)\n",
      "n_clusters:  5\n",
      "Davies-Bouldin index, silhouette_score:  1.3551463136334851 0.22158107902371066\n",
      "Classified_samples, classes:  4190 4\n",
      "shape:  (4190, 178)\n",
      "n_clusters:  7\n",
      "Davies-Bouldin index, silhouette_score:  1.3708881745426675 0.25512011740827906\n",
      "Classified_samples, classes:  4190 6\n",
      "shape:  (4190, 178)\n",
      "n_clusters:  9\n",
      "Davies-Bouldin index, silhouette_score:  1.4244389187763202 0.28001441516729514\n",
      "Classified_samples, classes:  4190 8\n",
      "shape:  (4190, 178)\n",
      "n_clusters:  11\n",
      "Davies-Bouldin index, silhouette_score:  1.5136400211096324 0.3020152137069119\n",
      "Classified_samples, classes:  4190 10\n",
      "\n",
      "data_O_pca_99\n"
     ]
    },
    {
     "data": {
      "application/vnd.jupyter.widget-view+json": {
       "model_id": "a0198d73b85540548241cd120ee8e575",
       "version_major": 2,
       "version_minor": 0
      },
      "text/plain": [
       "A Jupyter Widget"
      ]
     },
     "metadata": {},
     "output_type": "display_data"
    },
    {
     "name": "stdout",
     "output_type": "stream",
     "text": [
      "shape:  (4283, 33)\n",
      "n_clusters:  3\n",
      "Davies-Bouldin index, silhouette_score:  1.5131799660378533 0.1553377055536596\n",
      "Classified_samples, classes:  4283 2\n",
      "shape:  (4283, 33)\n",
      "n_clusters:  5\n",
      "Davies-Bouldin index, silhouette_score:  1.417313307512027 0.21384964247286606\n",
      "Classified_samples, classes:  4283 4\n",
      "shape:  (4283, 33)\n",
      "n_clusters:  7\n",
      "Davies-Bouldin index, silhouette_score:  1.461731569699792 0.24928684924013844\n",
      "Classified_samples, classes:  4283 6\n",
      "shape:  (4283, 33)\n",
      "n_clusters:  9\n",
      "Davies-Bouldin index, silhouette_score:  1.3885483617206535 0.2778349429310504\n",
      "Classified_samples, classes:  4283 8\n",
      "shape:  (4283, 33)\n",
      "n_clusters:  11\n",
      "Davies-Bouldin index, silhouette_score:  1.363806940497588 0.3066320980544289\n",
      "Classified_samples, classes:  4283 10\n",
      "\n"
     ]
    }
   ],
   "source": [
    "all_spectral_indexes = []\n",
    "for dataset, label in zip(datasets, paths):\n",
    "    dataset = sample_data(dataset, 0.3)\n",
    "    print(label.split(\"/\")[-1].split(\".\")[0])\n",
    "    indexes = []\n",
    "    for n in tqdm.tqdm_notebook(np.arange(3, 12, 2)):\n",
    "        sp = SpectralClustering(int(n))\n",
    "        #dbscan.fit(dataset)\n",
    "        pred = sp.fit_predict(dataset)\n",
    "        if max(pred) > 0:\n",
    "            centers = cl_centers(dataset, pred)\n",
    "\n",
    "            ind = DB_index(dataset, centers, pred)\n",
    "            print(\"shape: \", dataset.shape)\n",
    "            print(\"n_clusters: \", n)\n",
    "            print(\"Davies-Bouldin index, silhouette_score: \", ind, silhouette_score(dataset, pred))\n",
    "            print(\"Classified_samples, classes: \", (pred != -1).sum(), max(pred))\n",
    "            indexes.append(ind)\n",
    "        else:\n",
    "            indexes.append(-1)\n",
    "    \n",
    "    all_spectral_indexes.append(indexes)"
   ]
  },
  {
   "cell_type": "code",
   "execution_count": null,
   "metadata": {
    "collapsed": true
   },
   "outputs": [],
   "source": []
  },
  {
   "cell_type": "code",
   "execution_count": null,
   "metadata": {
    "collapsed": true
   },
   "outputs": [],
   "source": [
    "#all_dbscan_indexes = []\n",
    "for dataset in [data_165]:#, data_785]:\n",
    "    #indexes = []\n",
    "    for eps in tqdm.tqdm_notebook(np.linspace(0.1, 0.6, 6)):\n",
    "        dbscan = DBSCAN(eps)\n",
    "        #dbscan.fit(dataset)\n",
    "        pred = dbscan.fit_predict(dataset)\n",
    "        if max(pred) > 0:\n",
    "            centers = cl_centers(dataset, pred)\n",
    "\n",
    "            ind = DB_index(dataset, centers, pred)\n",
    "            print(dataset.shape, eps, ind, max(pred))\n",
    "        else:\n",
    "            print(\":'('\")\n",
    "            #indexes.append(ind)\n",
    "        #else:\n",
    "            #indexes.append(-1)\n",
    "    \n",
    "    #all_dbscan_indexes.append(indexes)"
   ]
  },
  {
   "cell_type": "code",
   "execution_count": null,
   "metadata": {
    "collapsed": true
   },
   "outputs": [],
   "source": []
  },
  {
   "cell_type": "code",
   "execution_count": 74,
   "metadata": {},
   "outputs": [
    {
     "data": {
      "image/png": "[encoded data removed]",
      "text/plain": [
       "<matplotlib.figure.Figure at 0x7f36780daef0>"
      ]
     },
     "metadata": {},
     "output_type": "display_data"
    }
   ],
   "source": [
    "_= plt.hist(distances_165[:].flatten(), bins = 100)"
   ]
  },
  {
   "cell_type": "code",
   "execution_count": null,
   "metadata": {},
   "outputs": [
    {
     "data": {
      "application/vnd.jupyter.widget-view+json": {
       "model_id": "ccb37795b2e14d04be961a5a6877ac36",
       "version_major": 2,
       "version_minor": 0
      },
      "text/plain": [
       "A Jupyter Widget"
      ]
     },
     "metadata": {},
     "output_type": "display_data"
    }
   ],
   "source": [
    "distances_165 = np.zeros((data_165.shape[0], data_165.shape[0]))\n",
    "for i in tqdm.tqdm_notebook(range(data_165[:].shape[0])):\n",
    "    distances_165[i] = np.array([distance.euclidean(data_165[i], x) for x in data_165])"
   ]
  },
  {
   "cell_type": "code",
   "execution_count": 70,
   "metadata": {},
   "outputs": [
    {
     "data": {
      "text/plain": [
       "array([[ 0.        ,  0.28886341,  0.27475431, ...,  0.2103007 ,\n",
       "         0.22426943,  0.23947824],\n",
       "       [ 0.28886341,  0.        ,  0.31736722, ...,  0.25161979,\n",
       "         0.21884803,  0.22503744],\n",
       "       [ 0.27475431,  0.31736722,  0.        , ...,  0.14389139,\n",
       "         0.25196938,  0.25853596],\n",
       "       ..., \n",
       "       [ 0.        ,  0.        ,  0.        , ...,  0.        ,\n",
       "         0.        ,  0.        ],\n",
       "       [ 0.        ,  0.        ,  0.        , ...,  0.        ,\n",
       "         0.        ,  0.        ],\n",
       "       [ 0.        ,  0.        ,  0.        , ...,  0.        ,\n",
       "         0.        ,  0.        ]])"
      ]
     },
     "execution_count": 70,
     "metadata": {},
     "output_type": "execute_result"
    }
   ],
   "source": [
    "distances_165"
   ]
  },
  {
   "cell_type": "code",
   "execution_count": 12,
   "metadata": {},
   "outputs": [
    {
     "data": {
      "text/plain": [
       "Isomap(eigen_solver='auto', max_iter=None, n_components=13, n_jobs=1,\n",
       "    n_neighbors=10, neighbors_algorithm='auto', path_method='auto', tol=0)"
      ]
     },
     "execution_count": 12,
     "metadata": {},
     "output_type": "execute_result"
    }
   ],
   "source": [
    "isomap.fit(data_165)"
   ]
  },
  {
   "cell_type": "code",
   "execution_count": 13,
   "metadata": {
    "collapsed": true
   },
   "outputs": [],
   "source": [
    "data_13 = isomap.transform(data_165)"
   ]
  },
  {
   "cell_type": "code",
   "execution_count": 15,
   "metadata": {},
   "outputs": [
    {
     "data": {
      "text/plain": [
       "0.0079697009132529695"
      ]
     },
     "execution_count": 15,
     "metadata": {},
     "output_type": "execute_result"
    }
   ],
   "source": [
    "isomap.reconstruction_error()"
   ]
  },
  {
   "cell_type": "code",
   "execution_count": null,
   "metadata": {
    "collapsed": true
   },
   "outputs": [],
   "source": []
  },
  {
   "cell_type": "code",
   "execution_count": 18,
   "metadata": {
    "collapsed": true
   },
   "outputs": [],
   "source": [
    "data_785 = np.load(\"../data/data_785_99.npy\")"
   ]
  },
  {
   "cell_type": "code",
   "execution_count": 19,
   "metadata": {
    "collapsed": true
   },
   "outputs": [],
   "source": [
    "isomap2 = Isomap(10, 14)"
   ]
  },
  {
   "cell_type": "code",
   "execution_count": 20,
   "metadata": {},
   "outputs": [
    {
     "data": {
      "text/plain": [
       "Isomap(eigen_solver='auto', max_iter=None, n_components=14, n_jobs=1,\n",
       "    n_neighbors=10, neighbors_algorithm='auto', path_method='auto', tol=0)"
      ]
     },
     "execution_count": 20,
     "metadata": {},
     "output_type": "execute_result"
    }
   ],
   "source": [
    "isomap2.fit(data_785)"
   ]
  },
  {
   "cell_type": "code",
   "execution_count": 71,
   "metadata": {},
   "outputs": [
    {
     "data": {
      "text/plain": [
       "0.041717712674192949"
      ]
     },
     "execution_count": 71,
     "metadata": {},
     "output_type": "execute_result"
    }
   ],
   "source": [
    "isomap3.reconstruction_error()"
   ]
  },
  {
   "cell_type": "code",
   "execution_count": 24,
   "metadata": {
    "collapsed": true
   },
   "outputs": [],
   "source": [
    "data_14 = isomap2.transform(data_785)"
   ]
  },
  {
   "cell_type": "code",
   "execution_count": 55,
   "metadata": {},
   "outputs": [
    {
     "data": {
      "text/plain": [
       "0.62782336470523914"
      ]
     },
     "execution_count": 55,
     "metadata": {},
     "output_type": "execute_result"
    }
   ],
   "source": [
    "isomap2.dist_matrix_.mean()"
   ]
  },
  {
   "cell_type": "code",
   "execution_count": 58,
   "metadata": {},
   "outputs": [
    {
     "data": {
      "text/plain": [
       "0.098581893900200002"
      ]
     },
     "execution_count": 58,
     "metadata": {},
     "output_type": "execute_result"
    }
   ],
   "source": []
  },
  {
   "cell_type": "code",
   "execution_count": 65,
   "metadata": {},
   "outputs": [
    {
     "name": "stdout",
     "output_type": "stream",
     "text": [
      "0.080773001308\n",
      "0.338662907863\n"
     ]
    }
   ],
   "source": [
    "i, j = 1, 6\n",
    "print(((data_785[i] - data_785[j])**2).sum())\n",
    "print(((data_14[i] - data_14[j])**2).sum())\n",
    "\n"
   ]
  },
  {
   "cell_type": "code",
   "execution_count": null,
   "metadata": {
    "collapsed": true
   },
   "outputs": [],
   "source": []
  },
  {
   "cell_type": "code",
   "execution_count": null,
   "metadata": {
    "collapsed": true
   },
   "outputs": [],
   "source": []
  },
  {
   "cell_type": "code",
   "execution_count": 66,
   "metadata": {
    "collapsed": true
   },
   "outputs": [],
   "source": [
    "isomap3 = Isomap(10, 2)"
   ]
  },
  {
   "cell_type": "code",
   "execution_count": 68,
   "metadata": {},
   "outputs": [
    {
     "data": {
      "text/plain": [
       "Isomap(eigen_solver='auto', max_iter=None, n_components=2, n_jobs=1,\n",
       "    n_neighbors=10, neighbors_algorithm='auto', path_method='auto', tol=0)"
      ]
     },
     "execution_count": 68,
     "metadata": {},
     "output_type": "execute_result"
    }
   ],
   "source": [
    "isomap3.fit(data_785)"
   ]
  },
  {
   "cell_type": "code",
   "execution_count": 69,
   "metadata": {
    "collapsed": true
   },
   "outputs": [],
   "source": [
    "data_2 = isomap3.transform(data_785)"
   ]
  },
  {
   "cell_type": "code",
   "execution_count": null,
   "metadata": {
    "collapsed": true
   },
   "outputs": [],
   "source": []
  },
  {
   "cell_type": "code",
   "execution_count": 73,
   "metadata": {
    "collapsed": true
   },
   "outputs": [],
   "source": [
    "isomap4 = Isomap(10, 2, n_jobs = 32)"
   ]
  },
  {
   "cell_type": "code",
   "execution_count": 74,
   "metadata": {},
   "outputs": [
    {
     "data": {
      "text/plain": [
       "Isomap(eigen_solver='auto', max_iter=None, n_components=2, n_jobs=1,\n",
       "    n_neighbors=10, neighbors_algorithm='auto', path_method='auto', tol=0)"
      ]
     },
     "execution_count": 74,
     "metadata": {},
     "output_type": "execute_result"
    }
   ],
   "source": [
    "isomap4.fit(data_165)"
   ]
  },
  {
   "cell_type": "code",
   "execution_count": 76,
   "metadata": {
    "collapsed": true
   },
   "outputs": [],
   "source": [
    "data_2_165 = isomap4.transform(data_165)"
   ]
  },
  {
   "cell_type": "code",
   "execution_count": null,
   "metadata": {
    "collapsed": true
   },
   "outputs": [],
   "source": []
  },
  {
   "cell_type": "code",
   "execution_count": 131,
   "metadata": {
    "scrolled": true
   },
   "outputs": [
    {
     "data": {
      "text/plain": [
       "<matplotlib.collections.PathCollection at 0x7f55aa177e80>"
      ]
     },
     "execution_count": 131,
     "metadata": {},
     "output_type": "execute_result"
    },
    {
     "data": {
      "image/png": "[encoded data removed]",
      "text/plain": [
       "<matplotlib.figure.Figure at 0x7f55d7a514a8>"
      ]
     },
     "metadata": {},
     "output_type": "display_data"
    }
   ],
   "source": [
    "plt.scatter(data_2[::,0], data_2[::, 1])\n",
    "plt.scatter(data_2[points_of_interest,0], data_2[points_of_interest, 1])"
   ]
  },
  {
   "cell_type": "code",
   "execution_count": 190,
   "metadata": {
    "collapsed": true
   },
   "outputs": [],
   "source": [
    "# Test NN "
   ]
  },
  {
   "cell_type": "code",
   "execution_count": 192,
   "metadata": {},
   "outputs": [
    {
     "name": "stdout",
     "output_type": "stream",
     "text": [
      "5\n"
     ]
    },
    {
     "data": {
      "image/png": "[encoded data removed]",
      "text/plain": [
       "<matplotlib.figure.Figure at 0x7f55ac445128>"
      ]
     },
     "metadata": {},
     "output_type": "display_data"
    },
    {
     "name": "stdout",
     "output_type": "stream",
     "text": [
      "10\n"
     ]
    },
    {
     "data": {
      "image/png": "[encoded data removed]",
      "text/plain": [
       "<matplotlib.figure.Figure at 0x7f55d7b4add8>"
      ]
     },
     "metadata": {},
     "output_type": "display_data"
    },
    {
     "name": "stdout",
     "output_type": "stream",
     "text": [
      "15\n"
     ]
    },
    {
     "data": {
      "image/png": "[encoded data removed]",
      "text/plain": [
       "<matplotlib.figure.Figure at 0x7f560a1c72e8>"
      ]
     },
     "metadata": {},
     "output_type": "display_data"
    },
    {
     "name": "stdout",
     "output_type": "stream",
     "text": [
      "20\n"
     ]
    },
    {
     "data": {
      "image/png": "[encoded data removed]",
      "text/plain": [
       "<matplotlib.figure.Figure at 0x7f568d8a7ef0>"
      ]
     },
     "metadata": {},
     "output_type": "display_data"
    },
    {
     "name": "stdout",
     "output_type": "stream",
     "text": [
      "40\n"
     ]
    },
    {
     "data": {
      "image/png": "[encoded data removed]",
      "text/plain": [
       "<matplotlib.figure.Figure at 0x7f560a1b9da0>"
      ]
     },
     "metadata": {},
     "output_type": "display_data"
    },
    {
     "name": "stdout",
     "output_type": "stream",
     "text": [
      "80\n"
     ]
    },
    {
     "ename": "KeyboardInterrupt",
     "evalue": "",
     "output_type": "error",
     "traceback": [
      "\u001b[0;31m------------------------------------------------\u001b[0m",
      "\u001b[0;31mKeyboardInterrupt\u001b[0mTraceback (most recent call last)",
      "\u001b[0;32m<ipython-input-192-74883d945ecd>\u001b[0m in \u001b[0;36m<module>\u001b[0;34m()\u001b[0m\n\u001b[1;32m      2\u001b[0m     \u001b[0mprint\u001b[0m\u001b[0;34m(\u001b[0m\u001b[0mk\u001b[0m\u001b[0;34m)\u001b[0m\u001b[0;34m\u001b[0m\u001b[0m\n\u001b[1;32m      3\u001b[0m     \u001b[0misomap_\u001b[0m \u001b[0;34m=\u001b[0m \u001b[0mIsomap\u001b[0m\u001b[0;34m(\u001b[0m\u001b[0mk\u001b[0m\u001b[0;34m,\u001b[0m \u001b[0;36m2\u001b[0m\u001b[0;34m,\u001b[0m \u001b[0mn_jobs\u001b[0m \u001b[0;34m=\u001b[0m \u001b[0;34m-\u001b[0m\u001b[0;36m1\u001b[0m\u001b[0;34m)\u001b[0m\u001b[0;34m\u001b[0m\u001b[0m\n\u001b[0;32m----> 4\u001b[0;31m     \u001b[0misomap_\u001b[0m\u001b[0;34m.\u001b[0m\u001b[0mfit\u001b[0m\u001b[0;34m(\u001b[0m\u001b[0mdata_165\u001b[0m\u001b[0;34m)\u001b[0m\u001b[0;34m\u001b[0m\u001b[0m\n\u001b[0m\u001b[1;32m      5\u001b[0m     \u001b[0mdata_\u001b[0m \u001b[0;34m=\u001b[0m \u001b[0misomap_\u001b[0m\u001b[0;34m.\u001b[0m\u001b[0mtransform\u001b[0m\u001b[0;34m(\u001b[0m\u001b[0mdata_165\u001b[0m\u001b[0;34m)\u001b[0m\u001b[0;34m\u001b[0m\u001b[0m\n\u001b[1;32m      6\u001b[0m \u001b[0;34m\u001b[0m\u001b[0m\n",
      "\u001b[0;32m~/anaconda3/lib/python3.6/site-packages/sklearn/manifold/isomap.py\u001b[0m in \u001b[0;36mfit\u001b[0;34m(self, X, y)\u001b[0m\n\u001b[1;32m    164\u001b[0m         \u001b[0mself\u001b[0m \u001b[0;34m:\u001b[0m \u001b[0mreturns\u001b[0m \u001b[0man\u001b[0m \u001b[0minstance\u001b[0m \u001b[0mof\u001b[0m \u001b[0mself\u001b[0m\u001b[0;34m.\u001b[0m\u001b[0;34m\u001b[0m\u001b[0m\n\u001b[1;32m    165\u001b[0m         \"\"\"\n\u001b[0;32m--> 166\u001b[0;31m         \u001b[0mself\u001b[0m\u001b[0;34m.\u001b[0m\u001b[0m_fit_transform\u001b[0m\u001b[0;34m(\u001b[0m\u001b[0mX\u001b[0m\u001b[0;34m)\u001b[0m\u001b[0;34m\u001b[0m\u001b[0m\n\u001b[0m\u001b[1;32m    167\u001b[0m         \u001b[0;32mreturn\u001b[0m \u001b[0mself\u001b[0m\u001b[0;34m\u001b[0m\u001b[0m\n\u001b[1;32m    168\u001b[0m \u001b[0;34m\u001b[0m\u001b[0m\n",
      "\u001b[0;32m~/anaconda3/lib/python3.6/site-packages/sklearn/manifold/isomap.py\u001b[0m in \u001b[0;36m_fit_transform\u001b[0;34m(self, X)\u001b[0m\n\u001b[1;32m    118\u001b[0m         self.dist_matrix_ = graph_shortest_path(kng,\n\u001b[1;32m    119\u001b[0m                                                 \u001b[0mmethod\u001b[0m\u001b[0;34m=\u001b[0m\u001b[0mself\u001b[0m\u001b[0;34m.\u001b[0m\u001b[0mpath_method\u001b[0m\u001b[0;34m,\u001b[0m\u001b[0;34m\u001b[0m\u001b[0m\n\u001b[0;32m--> 120\u001b[0;31m                                                 directed=False)\n\u001b[0m\u001b[1;32m    121\u001b[0m         \u001b[0mG\u001b[0m \u001b[0;34m=\u001b[0m \u001b[0mself\u001b[0m\u001b[0;34m.\u001b[0m\u001b[0mdist_matrix_\u001b[0m \u001b[0;34m**\u001b[0m \u001b[0;36m2\u001b[0m\u001b[0;34m\u001b[0m\u001b[0m\n\u001b[1;32m    122\u001b[0m         \u001b[0mG\u001b[0m \u001b[0;34m*=\u001b[0m \u001b[0;34m-\u001b[0m\u001b[0;36m0.5\u001b[0m\u001b[0;34m\u001b[0m\u001b[0m\n",
      "\u001b[0;31mKeyboardInterrupt\u001b[0m: "
     ]
    }
   ],
   "source": [
    "for k in [5, 10, 15, 20, 40, 80]:\n",
    "    print(k)\n",
    "    isomap_ = Isomap(k, 2, n_jobs = -1)\n",
    "    isomap_.fit(data_165)\n",
    "    data_ = isomap_.transform(data_165)\n",
    "    \n",
    "    plt.scatter(data_[::,0], data_[::, 1])\n",
    "    plt.show()"
   ]
  },
  {
   "cell_type": "code",
   "execution_count": null,
   "metadata": {
    "collapsed": true
   },
   "outputs": [],
   "source": []
  },
  {
   "cell_type": "code",
   "execution_count": null,
   "metadata": {
    "collapsed": true
   },
   "outputs": [],
   "source": []
  },
  {
   "cell_type": "code",
   "execution_count": 95,
   "metadata": {
    "collapsed": true
   },
   "outputs": [],
   "source": [
    "data = np.load(\"../data.npy\")"
   ]
  },
  {
   "cell_type": "code",
   "execution_count": 130,
   "metadata": {
    "collapsed": true
   },
   "outputs": [],
   "source": [
    "max_0 = 5477\n",
    "min_0 = 8881\n",
    "max_1 = 802\n",
    "min_1 = 5926\n",
    "points_of_interest = np.array([max_0, max_1, min_0, min_1])"
   ]
  },
  {
   "cell_type": "code",
   "execution_count": 115,
   "metadata": {
    "collapsed": true
   },
   "outputs": [],
   "source": [
    "rows = set()\n",
    "for p in points_of_interest:\n",
    "    rows.update(np.where(data[p] != 0)[0])"
   ]
  },
  {
   "cell_type": "code",
   "execution_count": 121,
   "metadata": {
    "collapsed": true
   },
   "outputs": [],
   "source": [
    "rows_of_interest = np.array(sorted(list(rows)))"
   ]
  },
  {
   "cell_type": "code",
   "execution_count": 133,
   "metadata": {
    "scrolled": true
   },
   "outputs": [
    {
     "data": {
      "image/png": "[encoded data removed]",
      "text/plain": [
       "<matplotlib.figure.Figure at 0x7f55ab3a46d8>"
      ]
     },
     "metadata": {},
     "output_type": "display_data"
    }
   ],
   "source": [
    "plt.figure(figsize = (10, 3))\n",
    "for p in points_of_interest:\n",
    "    plt.bar(np.arange(len(rows_of_interest)),\n",
    "           data[p][rows_of_interest])"
   ]
  },
  {
   "cell_type": "code",
   "execution_count": 174,
   "metadata": {
    "collapsed": true
   },
   "outputs": [],
   "source": [
    "def plot_set_of_points(points_of_interest, n_rows = 100):\n",
    "    rows = set()\n",
    "    for p in points_of_interest:\n",
    "        rows.update(np.where(data[p] != 0)[0])\n",
    "    rows_of_interest = np.array(sorted(list(rows)))\n",
    "    \n",
    "    t = sorted(data[points_of_interest][:, rows_of_interest].sum(0))[::-1][n_rows]\n",
    "    rows_mask = data[points_of_interest][:, rows_of_interest].sum(0) > t\n",
    "    \n",
    "    \n",
    "    print(len(rows_of_interest), rows_mask.sum())\n",
    "    plt.figure(figsize = (10, 3))\n",
    "    for p in points_of_interest:\n",
    "        plt.bar(np.arange(n_rows),\n",
    "               data[p][rows_of_interest[rows_mask]])\n",
    "    \n",
    "    return rows_of_interest"
   ]
  },
  {
   "cell_type": "code",
   "execution_count": null,
   "metadata": {
    "collapsed": true
   },
   "outputs": [],
   "source": []
  },
  {
   "cell_type": "code",
   "execution_count": 175,
   "metadata": {},
   "outputs": [
    {
     "name": "stdout",
     "output_type": "stream",
     "text": [
      "610 100\n"
     ]
    },
    {
     "data": {
      "image/png": "[encoded data removed]",
      "text/plain": [
       "<matplotlib.figure.Figure at 0x7f55abfbd6a0>"
      ]
     },
     "metadata": {},
     "output_type": "display_data"
    }
   ],
   "source": [
    "r_o_i = plot_set_of_points(data_2[:, 0].argsort()[:10])"
   ]
  },
  {
   "cell_type": "code",
   "execution_count": 179,
   "metadata": {
    "collapsed": true
   },
   "outputs": [
    {
     "data": {
      "text/plain": [
       "array([227, 195,   0,  27, 444,  28, 117, 169, 171,   2,  23, 133, 454,\n",
       "       136,   7, 124, 496, 125,  20, 298,   1,  75, 238, 373, 111,  58,\n",
       "       311,   8, 119,  55, 233, 107, 329,  91, 121, 240,  10, 135,  16,\n",
       "       134, 130, 116, 230,  53, 145,  17,  15,  30,  29,   5,  49,  39,\n",
       "       236, 470, 424, 115,  88, 140,  13,   3,  47, 436, 137, 247,  59,\n",
       "        82,  40, 231, 132, 120,  26, 255,  72, 299, 211,  14, 423, 122,\n",
       "       206, 114,  12, 349, 523, 153, 216, 324,  51, 113, 232,  70, 297,\n",
       "        46,  83, 217, 229, 131, 118,  74, 146, 411, 180,  89,  33, 439,\n",
       "       222,  37, 360, 350,  50, 126, 498,  69, 152, 138, 421, 239, 599,\n",
       "       129, 573,  18, 437, 182,  85, 151, 288, 150, 603,  77,  66, 127,\n",
       "        48, 306,  19, 173,  81, 356, 245, 220, 300,  22, 190, 302, 415,\n",
       "        41, 139, 185, 189, 369, 285, 325, 154, 176, 215, 331, 493, 202,\n",
       "       290,   6, 463, 370,  73, 312, 355,  31, 317, 534, 204, 344, 530,\n",
       "        32,  25, 172, 279, 596, 364, 465, 219, 108,  44,  21, 158, 200,\n",
       "       284,   4, 167,  60, 480, 252, 314, 301,  87,  57, 261, 276, 528,\n",
       "        24, 385, 179, 407, 365, 271, 105, 123, 305, 147, 110, 235, 197,\n",
       "       609, 604, 270, 500,  96, 293, 485, 221, 234, 128, 541, 405, 335,\n",
       "       388, 192, 159, 484, 102, 414, 307, 323, 278, 511, 589, 560, 249,\n",
       "       178, 213, 428,  38, 566, 166, 226, 161, 175, 563, 214, 394, 332,\n",
       "       525, 267, 420, 426, 286,  62, 259, 242, 432, 367,  76, 404, 198,\n",
       "        45,  79,  36, 223, 237, 163, 580, 478, 257, 416, 209, 326, 548,\n",
       "       486,  65, 464, 141, 359,  35,  34, 112, 579, 608, 265, 212,  43,\n",
       "       433,  94, 384, 309,  90,  71, 144, 553, 593, 378, 143, 101, 201,\n",
       "       406, 532, 181, 142, 558, 263, 435, 587, 205, 174, 446, 341, 450,\n",
       "       399, 483, 517, 497,  84, 186, 224, 562, 100,  42, 289, 487, 555,\n",
       "       510, 457, 377, 281, 434, 363, 272, 194, 427, 321, 417, 460, 438,\n",
       "       225, 258,  64, 400, 581, 352, 340, 264, 348,  67, 283, 210,  80,\n",
       "       458,  11,   9, 413, 425, 442, 515, 443, 447,  56, 316, 188, 277,\n",
       "       535, 472, 398, 471, 466, 379, 162, 372, 445, 347, 549, 260, 328,\n",
       "       268, 409, 199,  86, 408,  52, 354, 507, 538,  92, 513, 536, 539,\n",
       "       170, 295, 390, 386, 521,  54, 303, 382,  98, 518, 322, 488, 160,\n",
       "       494, 512, 266, 564, 467, 577, 559, 557, 380, 452, 389, 403, 468,\n",
       "        78, 552, 351, 456, 459, 338, 431, 157, 292, 203, 524, 318, 254,\n",
       "       343, 571, 576, 357, 451, 156, 441,  61, 148, 310, 448, 519, 155,\n",
       "       550, 246, 262, 183, 489, 196, 479,  63, 490, 594, 103, 320, 149,\n",
       "       371, 461, 430, 567, 187, 177,  93, 319, 294, 474, 191, 291, 499,\n",
       "       165, 339, 419, 269, 529, 607, 591, 570, 601, 104, 280, 590, 568,\n",
       "       412, 244, 506, 505, 526, 374, 396, 561, 243, 410, 578, 275, 429,\n",
       "       337, 193, 345, 375, 333, 402, 554, 381, 504, 361, 569, 533, 514,\n",
       "       256, 218, 475, 546, 537, 547, 362, 551, 469, 542, 565, 575, 476,\n",
       "       366, 353, 274, 287, 313, 422, 418, 481, 184, 540, 502,  95, 296,\n",
       "       572, 491,  68, 600, 376, 336, 606, 393, 516, 588, 164, 168, 368,\n",
       "       482, 241, 522, 383, 346, 109, 605, 495,  99, 544, 453, 462, 556,\n",
       "       395, 520, 503, 392, 473, 315, 397, 358,  97, 509, 508, 330, 597,\n",
       "       449, 387, 207, 308, 391, 584, 440, 228, 455, 273, 253, 251, 401,\n",
       "       585, 304, 342, 545, 250, 527, 531, 248, 602, 501, 582, 327, 543,\n",
       "       592, 208, 282, 477, 586, 574, 334, 598, 492, 595, 106, 583])"
      ]
     },
     "execution_count": 179,
     "metadata": {},
     "output_type": "execute_result"
    }
   ],
   "source": [
    "data[data_2[:, 0].argsort()[:10]][:, r_o_i].sum(0).argsort()[::-1]"
   ]
  },
  {
   "cell_type": "code",
   "execution_count": 137,
   "metadata": {},
   "outputs": [
    {
     "data": {
      "text/plain": [
       "array([8881, 1714, 2388, 8121, 5926, 4162, 8964, 1972, 6457, 8743])"
      ]
     },
     "execution_count": 137,
     "metadata": {},
     "output_type": "execute_result"
    }
   ],
   "source": [
    "data_2[:, 0].argsort()[:10]"
   ]
  },
  {
   "cell_type": "code",
   "execution_count": 188,
   "metadata": {},
   "outputs": [
    {
     "data": {
      "text/plain": [
       "array([ 543,   51, 2855,  492,    3,   50,  623,  340,  339,    5])"
      ]
     },
     "execution_count": 188,
     "metadata": {},
     "output_type": "execute_result"
    }
   ],
   "source": [
    "data[8881].argsort()[::-1][:10]"
   ]
  },
  {
   "cell_type": "code",
   "execution_count": 186,
   "metadata": {},
   "outputs": [
    {
     "data": {
      "text/plain": [
       "array([614, 543, 470,   3, 492, 627,   6, 348,  30, 330])"
      ]
     },
     "execution_count": 186,
     "metadata": {},
     "output_type": "execute_result"
    }
   ],
   "source": [
    "data[1714].argsort()[::-1][:10]"
   ]
  },
  {
   "cell_type": "code",
   "execution_count": 187,
   "metadata": {},
   "outputs": [
    {
     "data": {
      "text/plain": [
       "array([ 614,  543,    3, 1782,  923, 3725, 2747, 2489,  371,  470])"
      ]
     },
     "execution_count": 187,
     "metadata": {},
     "output_type": "execute_result"
    }
   ],
   "source": [
    "data[2388].argsort()[::-1][:10]"
   ]
  },
  {
   "cell_type": "code",
   "execution_count": 189,
   "metadata": {},
   "outputs": [
    {
     "name": "stdout",
     "output_type": "stream",
     "text": [
      "[ 543   51 2855  492    3]\n",
      "[614 543 470   3 492]\n",
      "[ 614  543    3 1782  923]\n",
      "[ 543   51 3018  351  614]\n",
      "[614 324  50 330   3]\n",
      "[614   3 492  50 330]\n",
      "[614 543   3  21   6]\n",
      "[543 614  50  13 630]\n",
      "[ 614  543 5135  887  618]\n",
      "[ 614  543 2855   42    3]\n"
     ]
    }
   ],
   "source": [
    "for p in data_2[:, 0].argsort()[:10]:\n",
    "    print(data[p].argsort()[::-1][:5])"
   ]
  },
  {
   "cell_type": "code",
   "execution_count": null,
   "metadata": {
    "collapsed": true
   },
   "outputs": [],
   "source": []
  },
  {
   "cell_type": "code",
   "execution_count": null,
   "metadata": {
    "collapsed": true
   },
   "outputs": [],
   "source": [
    "xv"
   ]
  },
  {
   "cell_type": "code",
   "execution_count": 183,
   "metadata": {},
   "outputs": [
    {
     "data": {
      "text/plain": [
       "543"
      ]
     },
     "execution_count": 183,
     "metadata": {},
     "output_type": "execute_result"
    }
   ],
   "source": [
    "data[8881].argmax()"
   ]
  },
  {
   "cell_type": "code",
   "execution_count": null,
   "metadata": {
    "collapsed": true
   },
   "outputs": [],
   "source": []
  },
  {
   "cell_type": "markdown",
   "metadata": {},
   "source": [
    "# LTSA"
   ]
  },
  {
   "cell_type": "code",
   "execution_count": 194,
   "metadata": {
    "collapsed": true
   },
   "outputs": [],
   "source": [
    "from sklearn.manifold import LocallyLinearEmbedding"
   ]
  },
  {
   "cell_type": "code",
   "execution_count": 195,
   "metadata": {
    "collapsed": true
   },
   "outputs": [],
   "source": [
    "lle = LocallyLinearEmbedding(10, 2, n_jobs = -1)"
   ]
  },
  {
   "cell_type": "code",
   "execution_count": 196,
   "metadata": {},
   "outputs": [
    {
     "data": {
      "text/plain": [
       "LocallyLinearEmbedding(eigen_solver='auto', hessian_tol=0.0001, max_iter=100,\n",
       "            method='standard', modified_tol=1e-12, n_components=2,\n",
       "            n_jobs=1, n_neighbors=10, neighbors_algorithm='auto',\n",
       "            random_state=None, reg=0.001, tol=1e-06)"
      ]
     },
     "execution_count": 196,
     "metadata": {},
     "output_type": "execute_result"
    }
   ],
   "source": [
    "lle.fit(data_165)"
   ]
  },
  {
   "cell_type": "code",
   "execution_count": 197,
   "metadata": {
    "collapsed": true
   },
   "outputs": [],
   "source": [
    "data_lle_2 = lle.transform(data_165)"
   ]
  },
  {
   "cell_type": "code",
   "execution_count": 198,
   "metadata": {},
   "outputs": [
    {
     "data": {
      "image/png": "[encoded data removed]",
      "text/plain": [
       "<matplotlib.figure.Figure at 0x7f55aaa8d6a0>"
      ]
     },
     "metadata": {},
     "output_type": "display_data"
    }
   ],
   "source": [
    "plt.scatter(data_lle_2[::,0], data_lle_2[::, 1])\n",
    "plt.show()"
   ]
  },
  {
   "cell_type": "code",
   "execution_count": 246,
   "metadata": {},
   "outputs": [
    {
     "data": {
      "text/plain": [
       "3.3894103131050256e-07"
      ]
     },
     "execution_count": 246,
     "metadata": {},
     "output_type": "execute_result"
    }
   ],
   "source": [
    "lle.reconstruction_error_"
   ]
  },
  {
   "cell_type": "code",
   "execution_count": 224,
   "metadata": {},
   "outputs": [
    {
     "data": {
      "text/plain": [
       "array([3655, 8692, 5135, ..., 5640, 8068,  858])"
      ]
     },
     "execution_count": 224,
     "metadata": {},
     "output_type": "execute_result"
    }
   ],
   "source": [
    "data_lle_2[:,0].argsort()"
   ]
  },
  {
   "cell_type": "code",
   "execution_count": 201,
   "metadata": {
    "collapsed": true
   },
   "outputs": [],
   "source": [
    "import pandas as pd"
   ]
  },
  {
   "cell_type": "code",
   "execution_count": 210,
   "metadata": {
    "collapsed": true
   },
   "outputs": [],
   "source": [
    "ltsa = LocallyLinearEmbedding(10, 2, n_jobs = -1, method='modified')"
   ]
  },
  {
   "cell_type": "code",
   "execution_count": 211,
   "metadata": {},
   "outputs": [
    {
     "data": {
      "text/plain": [
       "LocallyLinearEmbedding(eigen_solver='auto', hessian_tol=0.0001, max_iter=100,\n",
       "            method='modified', modified_tol=1e-12, n_components=2,\n",
       "            n_jobs=-1, n_neighbors=10, neighbors_algorithm='auto',\n",
       "            random_state=None, reg=0.001, tol=1e-06)"
      ]
     },
     "execution_count": 211,
     "metadata": {},
     "output_type": "execute_result"
    }
   ],
   "source": [
    "ltsa.fit(pd.DataFrame(data_165).drop_duplicates().values)"
   ]
  },
  {
   "cell_type": "code",
   "execution_count": 212,
   "metadata": {
    "collapsed": true
   },
   "outputs": [],
   "source": [
    "data_ltsa_2 = ltsa.transform(data_165)"
   ]
  },
  {
   "cell_type": "code",
   "execution_count": 213,
   "metadata": {},
   "outputs": [
    {
     "data": {
      "image/png": "[encoded data removed]",
      "text/plain": [
       "<matplotlib.figure.Figure at 0x7f55aa3784a8>"
      ]
     },
     "metadata": {},
     "output_type": "display_data"
    }
   ],
   "source": [
    "plt.scatter(data_ltsa_2[::,0], data_ltsa_2[::, 1])\n",
    "plt.show()"
   ]
  },
  {
   "cell_type": "code",
   "execution_count": 247,
   "metadata": {},
   "outputs": [
    {
     "data": {
      "text/plain": [
       "0.0001"
      ]
     },
     "execution_count": 247,
     "metadata": {},
     "output_type": "execute_result"
    }
   ],
   "source": [
    "ltsa.hessian_tol\n"
   ]
  },
  {
   "cell_type": "code",
   "execution_count": null,
   "metadata": {
    "collapsed": true
   },
   "outputs": [],
   "source": []
  },
  {
   "cell_type": "code",
   "execution_count": null,
   "metadata": {
    "collapsed": true
   },
   "outputs": [],
   "source": []
  },
  {
   "cell_type": "code",
   "execution_count": 215,
   "metadata": {
    "collapsed": true
   },
   "outputs": [],
   "source": [
    "ltsa30 = LocallyLinearEmbedding(30, 2, n_jobs = -1, method='modified')"
   ]
  },
  {
   "cell_type": "code",
   "execution_count": 216,
   "metadata": {},
   "outputs": [
    {
     "data": {
      "text/plain": [
       "LocallyLinearEmbedding(eigen_solver='auto', hessian_tol=0.0001, max_iter=100,\n",
       "            method='modified', modified_tol=1e-12, n_components=2,\n",
       "            n_jobs=-1, n_neighbors=30, neighbors_algorithm='auto',\n",
       "            random_state=None, reg=0.001, tol=1e-06)"
      ]
     },
     "execution_count": 216,
     "metadata": {},
     "output_type": "execute_result"
    }
   ],
   "source": [
    "ltsa30.fit(pd.DataFrame(data_165).drop_duplicates().values)"
   ]
  },
  {
   "cell_type": "code",
   "execution_count": 217,
   "metadata": {
    "collapsed": true
   },
   "outputs": [],
   "source": [
    "data_ltsa_2 = ltsa30.transform(data_165)"
   ]
  },
  {
   "cell_type": "code",
   "execution_count": 218,
   "metadata": {},
   "outputs": [
    {
     "data": {
      "image/png": "[encoded data removed]",
      "text/plain": [
       "<matplotlib.figure.Figure at 0x7f55aa3d2e80>"
      ]
     },
     "metadata": {},
     "output_type": "display_data"
    }
   ],
   "source": [
    "plt.scatter(data_ltsa_2[::,0], data_ltsa_2[::, 1])\n",
    "plt.show()"
   ]
  },
  {
   "cell_type": "code",
   "execution_count": null,
   "metadata": {
    "collapsed": true
   },
   "outputs": [],
   "source": []
  },
  {
   "cell_type": "code",
   "execution_count": 78,
   "metadata": {
    "collapsed": true
   },
   "outputs": [],
   "source": [
    "from mpl_toolkits.mplot3d import Axes3D\n",
    "import matplotlib.pyplot as plt\n",
    "import numpy as np"
   ]
  },
  {
   "cell_type": "code",
   "execution_count": 89,
   "metadata": {},
   "outputs": [
    {
     "data": {
      "image/png": "[encoded data removed]",
      "text/plain": [
       "<matplotlib.figure.Figure at 0x7f55ac00a550>"
      ]
     },
     "metadata": {},
     "output_type": "display_data"
    }
   ],
   "source": [
    "fig = plt.figure()\n",
    "ax = fig.add_subplot(111, projection='3d')\n",
    "x, y = np.random.rand(2, 100) * 4\n",
    "hist, xedges, yedges = np.histogram2d(data_2_165[::10,0], data_2_165[::10,1], bins=10, range=[[-1, 1], [-1, 1]])\n",
    "\n",
    "# Construct arrays for the anchor positions of the 16 bars.\n",
    "# Note: np.meshgrid gives arrays in (ny, nx) so we use 'F' to flatten xpos,\n",
    "# ypos in column-major order. For numpy >= 1.7, we could instead call meshgrid\n",
    "# with indexing='ij'.\n",
    "xpos, ypos = np.meshgrid(xedges[:-1] + 0.25, yedges[:-1] + 0.25)\n",
    "xpos = xpos.flatten('F')\n",
    "ypos = ypos.flatten('F')\n",
    "zpos = np.zeros_like(xpos)\n",
    "\n",
    "# Construct arrays with the dimensions for the 16 bars.\n",
    "dx = 0.5 * np.ones_like(zpos)\n",
    "dy = dx.copy()\n",
    "dz = hist.flatten()\n",
    "\n",
    "ax.bar3d(xpos, ypos, zpos, dx, dy, dz, color='b', zsort='average')\n",
    "\n",
    "plt.show()"
   ]
  },
  {
   "cell_type": "code",
   "execution_count": 91,
   "metadata": {},
   "outputs": [
    {
     "data": {
      "text/plain": [
       "array([[  0,   0,   0,   0,   0,   0,   0,   0,   0,   0],\n",
       "       [  0,   0,   0,   0,   0,   0,   0,   0,   0,   0],\n",
       "       [  0,   0,   0,   0,   0,   0,   1,   0,   0,   0],\n",
       "       [  0,   0,   0,   1,   5,   8,   1,   0,   0,   0],\n",
       "       [  0,   0,   2,  14, 215, 332,  21,   1,   0,   0],\n",
       "       [  0,   0,   0,  10, 103,  95,  11,   1,   0,   0],\n",
       "       [  0,   0,   0,   3,  42,  45,   2,   0,   0,   0],\n",
       "       [  0,   0,   0,   0,  15,  17,   1,   0,   0,   0],\n",
       "       [  0,   0,   0,   0,   2,   4,   0,   0,   0,   0],\n",
       "       [  0,   0,   0,   0,   0,   0,   0,   0,   0,   0]])"
      ]
     },
     "execution_count": 91,
     "metadata": {},
     "output_type": "execute_result"
    }
   ],
   "source": [
    "hist.astype(int)"
   ]
  },
  {
   "cell_type": "code",
   "execution_count": 80,
   "metadata": {},
   "outputs": [
    {
     "data": {
      "text/plain": [
       "array([ 0.51252226,  1.56414272,  1.87201009,  2.70197571,  1.71271883,\n",
       "        2.39053927,  2.59604599,  0.2946539 ,  2.85455991,  2.76722542,\n",
       "        1.22234149,  3.72461138,  1.14365828,  1.97617746,  3.67731277,\n",
       "        0.97656382,  3.08930873,  1.31972196,  1.52732529,  1.69583193,\n",
       "        2.94025968,  1.14883381,  0.41574803,  3.60159791,  3.49538245,\n",
       "        1.20630008,  0.16141747,  0.91452009,  0.146815  ,  3.67175283,\n",
       "        0.40801543,  1.61232873,  2.93256511,  3.67300721,  2.60467093,\n",
       "        1.19754705,  0.92666568,  2.41302557,  1.42448728,  1.95085197,\n",
       "        2.05828783,  3.1515367 ,  0.01251488,  0.08065437,  0.86883018,\n",
       "        3.10413117,  0.8217225 ,  1.04135273,  0.12928189,  3.9359068 ,\n",
       "        1.9254168 ,  2.85698905,  3.13105718,  2.33280267,  2.48321703,\n",
       "        3.27015679,  0.78738704,  3.685851  ,  3.34439347,  0.39645191,\n",
       "        0.47844183,  2.00048935,  1.00103285,  3.67161327,  1.67832379,\n",
       "        3.84648223,  1.48456803,  1.75621862,  0.58078208,  3.42208347,\n",
       "        2.58579649,  2.02994546,  2.29130542,  2.43423443,  1.88084049,\n",
       "        0.77167226,  0.54942483,  1.81051857,  2.91127999,  3.4403963 ,\n",
       "        0.84174275,  0.1670666 ,  1.82309938,  1.38088654,  0.16018463,\n",
       "        3.35727244,  1.44535033,  0.1097973 ,  1.15634029,  1.49100889,\n",
       "        2.59148172,  1.03912638,  3.89370173,  0.08569894,  1.39421727,\n",
       "        0.81213808,  1.89353059,  0.4328791 ,  0.85568638,  0.34163688])"
      ]
     },
     "execution_count": 80,
     "metadata": {},
     "output_type": "execute_result"
    }
   ],
   "source": [
    "x"
   ]
  },
  {
   "cell_type": "code",
   "execution_count": null,
   "metadata": {
    "collapsed": true
   },
   "outputs": [],
   "source": []
  },
  {
   "cell_type": "code",
   "execution_count": null,
   "metadata": {
    "collapsed": true
   },
   "outputs": [],
   "source": []
  },
  {
   "cell_type": "code",
   "execution_count": 25,
   "metadata": {
    "collapsed": true
   },
   "outputs": [],
   "source": [
    "x = data_14[0]"
   ]
  },
  {
   "cell_type": "code",
   "execution_count": 26,
   "metadata": {},
   "outputs": [
    {
     "data": {
      "text/plain": [
       "array([-0.11435003, -0.021096  , -0.024438  ,  0.05476516,  0.10633402,\n",
       "       -0.01738961,  0.00238085, -0.08010104, -0.04253603,  0.03310806,\n",
       "        0.00578766,  0.02468209, -0.05653231,  0.04541346])"
      ]
     },
     "execution_count": 26,
     "metadata": {},
     "output_type": "execute_result"
    }
   ],
   "source": [
    "x"
   ]
  },
  {
   "cell_type": "code",
   "execution_count": 40,
   "metadata": {},
   "outputs": [
    {
     "data": {
      "image/png": "[encoded data removed]",
      "text/plain": [
       "<matplotlib.figure.Figure at 0x7f55ab26a7b8>"
      ]
     },
     "metadata": {},
     "output_type": "display_data"
    }
   ],
   "source": [
    "_ = plt.hist(isomap2.dist_matrix_[7], bins = 100, log = 0)"
   ]
  },
  {
   "cell_type": "code",
   "execution_count": 41,
   "metadata": {},
   "outputs": [
    {
     "data": {
      "text/plain": [
       "119"
      ]
     },
     "execution_count": 41,
     "metadata": {},
     "output_type": "execute_result"
    }
   ],
   "source": [
    "(isomap2.dist_matrix_[7] < 0.25).sum()"
   ]
  },
  {
   "cell_type": "code",
   "execution_count": 43,
   "metadata": {},
   "outputs": [
    {
     "data": {
      "text/plain": [
       "79.83193277310924"
      ]
     },
     "execution_count": 43,
     "metadata": {},
     "output_type": "execute_result"
    }
   ],
   "source": [
    "9500 / 119"
   ]
  },
  {
   "cell_type": "code",
   "execution_count": 37,
   "metadata": {
    "collapsed": true
   },
   "outputs": [],
   "source": [
    "from sklearn.cluster import KMeans"
   ]
  },
  {
   "cell_type": "code",
   "execution_count": 44,
   "metadata": {
    "collapsed": true
   },
   "outputs": [],
   "source": [
    "km = KMeans(80)"
   ]
  },
  {
   "cell_type": "code",
   "execution_count": 45,
   "metadata": {},
   "outputs": [
    {
     "data": {
      "text/plain": [
       "array([17, 30, 27, ..., 24, 68, 71], dtype=int32)"
      ]
     },
     "execution_count": 45,
     "metadata": {},
     "output_type": "execute_result"
    }
   ],
   "source": [
    "km.fit_predict(data_14)"
   ]
  },
  {
   "cell_type": "code",
   "execution_count": 46,
   "metadata": {
    "collapsed": true
   },
   "outputs": [],
   "source": [
    "clusters_80 = km.predict(data_14)"
   ]
  },
  {
   "cell_type": "code",
   "execution_count": 49,
   "metadata": {},
   "outputs": [
    {
     "data": {
      "text/plain": [
       "283.45853287886604"
      ]
     },
     "execution_count": 49,
     "metadata": {},
     "output_type": "execute_result"
    }
   ],
   "source": [
    "km.inertia_"
   ]
  },
  {
   "cell_type": "code",
   "execution_count": null,
   "metadata": {
    "collapsed": true
   },
   "outputs": [],
   "source": []
  },
  {
   "cell_type": "code",
   "execution_count": 50,
   "metadata": {},
   "outputs": [
    {
     "name": "stdout",
     "output_type": "stream",
     "text": [
      "757.040613342\n",
      "525.165108139\n",
      "430.102529899\n",
      "379.22882613\n",
      "345.893135452\n",
      "320.64635213\n",
      "299.929114577\n"
     ]
    }
   ],
   "source": [
    "c_num = []\n",
    "for i in tqrange(10, 80, 3):\n",
    "    km = KMeans(i)\n",
    "    km.fit(data_14)\n",
    "    c_num.append(km.inertia_)"
   ]
  },
  {
   "cell_type": "code",
   "execution_count": 221,
   "metadata": {},
   "outputs": [
    {
     "data": {
      "text/plain": [
       "[<matplotlib.lines.Line2D at 0x7f55aa777b00>]"
      ]
     },
     "execution_count": 221,
     "metadata": {},
     "output_type": "execute_result"
    },
    {
     "data": {
      "image/png": "[encoded data removed]",
      "text/plain": [
       "<matplotlib.figure.Figure at 0x7f55aa1ef978>"
      ]
     },
     "metadata": {},
     "output_type": "display_data"
    }
   ],
   "source": [
    "plt.plot(range(10, 80, 10), [757.040613342,\n",
    "525.165108139,\n",
    "430.102529899,\n",
    "379.22882613,\n",
    "345.893135452,\n",
    "320.64635213,\n",
    "299.929114577])"
   ]
  },
  {
   "cell_type": "code",
   "execution_count": null,
   "metadata": {
    "collapsed": true
   },
   "outputs": [],
   "source": []
  },
  {
   "cell_type": "code",
   "execution_count": null,
   "metadata": {
    "collapsed": true
   },
   "outputs": [],
   "source": []
  },
  {
   "cell_type": "code",
   "execution_count": 228,
   "metadata": {
    "collapsed": true
   },
   "outputs": [],
   "source": [
    "DB_ind_kmeans = np.zeros(80)\n",
    "\n",
    "for i in range(2, 80):\n",
    "    km = KMeans(i)\n",
    "    pred = km.fit_predict(data_14)\n",
    "    DB_ind_kmeans[i] = DB_index(data_14, km.cluster_centers_, pred)\n",
    "    \n",
    "    "
   ]
  },
  {
   "cell_type": "code",
   "execution_count": 229,
   "metadata": {},
   "outputs": [
    {
     "data": {
      "text/plain": [
       "[<matplotlib.lines.Line2D at 0x7f55ab061940>]"
      ]
     },
     "execution_count": 229,
     "metadata": {},
     "output_type": "execute_result"
    },
    {
     "data": {
      "image/png": "[encoded data removed]",
      "text/plain": [
       "<matplotlib.figure.Figure at 0x7f55ac474550>"
      ]
     },
     "metadata": {},
     "output_type": "display_data"
    }
   ],
   "source": [
    "plt.plot(DB_ind_kmeans)"
   ]
  },
  {
   "cell_type": "code",
   "execution_count": 231,
   "metadata": {
    "collapsed": true
   },
   "outputs": [],
   "source": [
    "from sklearn.cluster import SpectralClustering"
   ]
  },
  {
   "cell_type": "code",
   "execution_count": 244,
   "metadata": {},
   "outputs": [
    {
     "data": {
      "application/vnd.jupyter.widget-view+json": {
       "model_id": "b8610c0c1f984ad7b33717e66a4fbc5c",
       "version_major": 2,
       "version_minor": 0
      },
      "text/plain": [
       "A Jupyter Widget"
      ]
     },
     "metadata": {},
     "output_type": "display_data"
    }
   ],
   "source": [
    "DB_ind_spectral = np.zeros(80)\n",
    "\n",
    "for i in tqdm.tqdm_notebook(range(2, 30)):\n",
    "    km = SpectralClustering(i)\n",
    "    pred = km.fit_predict(data_14)\n",
    "    centers = cl_centers(data_14, pred, i)\n",
    "    DB_ind_spectral[i] = DB_index(data_14, centers, pred)\n",
    "    \n",
    "    "
   ]
  },
  {
   "cell_type": "code",
   "execution_count": 245,
   "metadata": {},
   "outputs": [
    {
     "data": {
      "text/plain": [
       "[<matplotlib.lines.Line2D at 0x7f55ab02c710>]"
      ]
     },
     "execution_count": 245,
     "metadata": {},
     "output_type": "execute_result"
    },
    {
     "data": {
      "image/png": "[encoded data removed]",
      "text/plain": [
       "<matplotlib.figure.Figure at 0x7f55d7c7feb8>"
      ]
     },
     "metadata": {},
     "output_type": "display_data"
    }
   ],
   "source": [
    "plt.plot(DB_ind_spectral)"
   ]
  },
  {
   "cell_type": "code",
   "execution_count": 242,
   "metadata": {},
   "outputs": [
    {
     "data": {
      "text/plain": [
       "array([[ 0.11255914,  0.00452464, -0.01387674,  0.00549251, -0.0027013 ,\n",
       "        -0.00205046, -0.00181615,  0.00123713, -0.00059782, -0.00471948,\n",
       "        -0.00574829,  0.00187908,  0.00112773, -0.00145864],\n",
       "       [-0.29511412, -0.01186296,  0.03638285, -0.01440057,  0.00708241,\n",
       "         0.00537602,  0.00476168, -0.00324357,  0.0015674 ,  0.0123738 ,\n",
       "         0.0150712 , -0.00492667, -0.00295674,  0.00382434]])"
      ]
     },
     "execution_count": 242,
     "metadata": {},
     "output_type": "execute_result"
    }
   ],
   "source": []
  },
  {
   "cell_type": "code",
   "execution_count": null,
   "metadata": {
    "collapsed": true
   },
   "outputs": [],
   "source": []
  }
 ],
 "metadata": {
  "kernelspec": {
   "display_name": "Python 3",
   "language": "python",
   "name": "python3"
  },
  "language_info": {
   "codemirror_mode": {
    "name": "ipython",
    "version": 3
   },
   "file_extension": ".py",
   "mimetype": "text/x-python",
   "name": "python",
   "nbconvert_exporter": "python",
   "pygments_lexer": "ipython3",
   "version": "3.6.3"
  }
 },
 "nbformat": 4,
 "nbformat_minor": 2
}
